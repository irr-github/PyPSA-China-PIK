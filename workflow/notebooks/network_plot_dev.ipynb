{
 "cells": [
  {
   "cell_type": "code",
   "execution_count": null,
   "metadata": {},
   "outputs": [],
   "source": [
    "%load_ext autoreload\n",
    "%autoreload 2"
   ]
  },
  {
   "cell_type": "code",
   "execution_count": null,
   "metadata": {},
   "outputs": [],
   "source": [
    "# make scripts the working directory\n",
    "import IPython, os\n",
    "notebook_name = IPython.extract_module_locals()[1][\"__vsc_ipynb_file__\"]\n",
    "scripts_dir = os.path.join(os.path.dirname(os.path.dirname(notebook_name)), \"scripts\")\n",
    "os.chdir(scripts_dir)"
   ]
  },
  {
   "cell_type": "code",
   "execution_count": null,
   "metadata": {},
   "outputs": [],
   "source": [
    "import logging\n",
    "import pypsa\n",
    "import os.path\n",
    "import sys\n",
    "\n",
    "import cartopy.crs as ccrs\n",
    "import matplotlib.pyplot as plt\n",
    "import pandas as pd\n",
    "\n",
    "# from make_summary import assign_carriers\n",
    "from _helpers import configure_logging, mock_snakemake\n",
    "from plot_summary import rename_techs\n",
    "from constants import PLOT_COST_UNITS, PLOT_CAP_UNITS,PLOT_SUPPLY_UNITS\n",
    "from pypsa.plot import add_legend_circles, add_legend_lines, add_legend_patches\n",
    "from plot_network import plot_capex_map, plot_map, plot_energy_map\n",
    "from _plot_utilities import fix_network_names_colors\n",
    "\n",
    "logger = logging.getLogger(__name__)\n"
   ]
  },
  {
   "cell_type": "code",
   "execution_count": null,
   "metadata": {},
   "outputs": [],
   "source": [
    "\n",
    "snakemake = mock_snakemake(\n",
    "    \"plot_network\",\n",
    "    snakefile_path=os.path.abspath(\"../\"),\n",
    "    opts=\"ll\",\n",
    "    topology=\"current-and-neighbour\",\n",
    "    pathway=\"exponential175\",\n",
    "    planning_horizons=\"2060\",\n",
    "    heating_demand=\"positive\",\n",
    ")\n",
    "\n",
    "configure_logging(snakemake, logger=logger)\n",
    "config = snakemake.config\n",
    "tech_colors = config[\"plotting\"][\"tech_colors\"]\n",
    "\n",
    "\n",
    "ntw_path = snakemake.input.network\n",
    "\n",
    "# ntw_path = \"/home/ivanra/documents/PyPSA-China-PIK/results/version-0325.175.1H/postnetworks/positive/postnetwork-ll-current+Neighbor-exponential175-2060.nc\"\n",
    "# ntw_path = \"/home/ivanra/downloads/PaperResultsXiaowei_networks/postnetwork-ll-current+Neighbor-exponential175-2060.nc\"\n",
    "n = pypsa.Network(ntw_path)"
   ]
  },
  {
   "cell_type": "code",
   "execution_count": null,
   "metadata": {},
   "outputs": [],
   "source": [
    "fix_network_names_colors(n, config)"
   ]
  },
  {
   "cell_type": "code",
   "execution_count": null,
   "metadata": {},
   "outputs": [],
   "source": [
    "n.global_constraints"
   ]
  },
  {
   "cell_type": "markdown",
   "metadata": {},
   "source": [
    "# plot map"
   ]
  },
  {
   "cell_type": "code",
   "execution_count": null,
   "metadata": {},
   "outputs": [],
   "source": [
    "from plot_network import plot_capex_map, plot_map"
   ]
  },
  {
   "cell_type": "markdown",
   "metadata": {},
   "source": [
    "## plot capex"
   ]
  },
  {
   "cell_type": "code",
   "execution_count": null,
   "metadata": {},
   "outputs": [],
   "source": [
    "ax = plot_capex_map(n, 2060, snakemake.config[\"costs\"][\"discountrate\"], config[\"plotting\"])"
   ]
  },
  {
   "cell_type": "code",
   "execution_count": null,
   "metadata": {},
   "outputs": [],
   "source": [
    "from _plot_utilities import assign_location\n",
    "from plot_network import plot_map\n",
    "opts = config[\"plotting\"]\n",
    "plot_ntwk = n.copy()\n",
    "assign_location(plot_ntwk)\n",
    "cpx = plot_ntwk.statistics.capex(groupby=pypsa.statistics.get_bus_and_carrier)\n",
    "cpx2 = cpx.droplevel(0)"
   ]
  },
  {
   "cell_type": "code",
   "execution_count": null,
   "metadata": {},
   "outputs": [],
   "source": [
    "anhui_stats = cpx.unstack().groupby(level=1).sum().loc[\"Anhui\"]\n",
    "anhui_stats.index = anhui_stats.index.map(rename_techs)\n",
    "anhui_stats.where(anhui_stats > 0).dropna().sort_index()"
   ]
  },
  {
   "cell_type": "code",
   "execution_count": null,
   "metadata": {},
   "outputs": [],
   "source": [
    "from _helpers import calc_component_capex\n",
    "from _plot_utilities import assign_location\n",
    "from plot_network import make_cost_pies\n",
    "costs_add = pd.DataFrame(index=n.buses.index)\n",
    "costs_nom = pd.DataFrame(index=n.buses.index)\n",
    "plot_ntwk = n.copy()\n",
    "# Drop non-electric buses so they don't clutter the plot\n",
    "plot_ntwk.buses.drop(plot_ntwk.buses.index[plot_ntwk.buses.carrier != \"AC\"], inplace=True)\n",
    "\n",
    "assign_location(plot_ntwk)\n",
    "for comp in plot_ntwk.iterate_components():\n",
    "    # df_c = getattr(ntwk, comp)\n",
    "    print(comp.name, comp.list_name)\n",
    "    df_c = comp.df\n",
    "\n",
    "    if df_c.empty:\n",
    "        continue\n",
    "    if not \"capital_cost\" in df_c.columns:\n",
    "        continue\n",
    "\n",
    "    df_c[\"nice_group\"] = comp.name + \"_\" + df_c.carrier #.map(rename_techs)\n",
    "\n",
    "    cap_name = \"e_nom_opt\" if comp.list_name == \"stores\" else \"p_nom_opt\"\n",
    "    cap_before_ext = \"e_nom\" if comp.list_name == \"stores\" else \"p_nom\"\n",
    "\n",
    "    costs_total = calc_component_capex(df_c, cap_name)\n",
    "    costs_before_ext = calc_component_capex(df_c, cap_before_ext)\n",
    "    costs_diff = costs_total - costs_before_ext\n",
    "\n",
    "    costs_add = pd.concat([costs_add, costs_diff], axis=1)\n",
    "    costs_nom = pd.concat([costs_nom, costs_total], axis=1)\n",
    "\n",
    "costs_pathway = costs_add\n",
    "cost_pie = make_cost_pies(plot_ntwk, costs_pathway, tech_colors)\n",
    "cost_pie_nom = make_cost_pies(plot_ntwk, costs_nom, tech_colors)"
   ]
  },
  {
   "cell_type": "code",
   "execution_count": null,
   "metadata": {},
   "outputs": [],
   "source": [
    "costs_nom.loc[\"Anhui\"]"
   ]
  },
  {
   "cell_type": "code",
   "execution_count": null,
   "metadata": {},
   "outputs": [],
   "source": [
    "costs_nom.loc[\"Anhui\"].where(costs_nom.loc[\"Anhui\"] > 0).dropna().sort_index()"
   ]
  },
  {
   "cell_type": "code",
   "execution_count": null,
   "metadata": {},
   "outputs": [],
   "source": [
    "(+4.945283e+08+4.561884e+08+8.723083e+08+6.220741e+08+9.907787e+07+5.843623e+08+7.186157e+08+1.612604e+03+4.571001e+07)/1e9"
   ]
  },
  {
   "cell_type": "code",
   "execution_count": null,
   "metadata": {},
   "outputs": [],
   "source": [
    "cpx[cpx.index.get_level_values(1) == \"Anhui\"].sort_index()"
   ]
  },
  {
   "cell_type": "code",
   "execution_count": null,
   "metadata": {},
   "outputs": [],
   "source": [
    "cpx[(\"Link\", \"Anhui\", slice(None))].sum()/1e9"
   ]
  },
  {
   "cell_type": "code",
   "execution_count": null,
   "metadata": {},
   "outputs": [],
   "source": [
    "carriers = (\n",
    "    cost_pie.index.get_level_values(1)\n",
    "    .unique()\n",
    "    .union(cost_pie_nom.index.get_level_values(1).unique())\n",
    ")\n",
    "carriers = carriers.tolist()\n",
    "df = pd.DataFrame(index=carriers, columns=[\"total\", \"added\"])\n",
    "df[\"total\"] = cost_pie_nom.groupby(level=1).sum()\n",
    "df[\"added\"] = cost_pie.groupby(level=1).sum()"
   ]
  },
  {
   "cell_type": "code",
   "execution_count": null,
   "metadata": {},
   "outputs": [],
   "source": [
    "preferred_order = pd.Index(config[\"plotting\"][\"preferred_order\"])\n",
    "reordered = preferred_order.intersection(df.index).append(df.index.difference(preferred_order))\n",
    "\n",
    "df.loc[reordered, df.columns]\n",
    "df.sum()[\"added\"]"
   ]
  },
  {
   "cell_type": "code",
   "execution_count": null,
   "metadata": {},
   "outputs": [],
   "source": [
    "cpx3 = cpx2[\"Anhui\"].copy()\n",
    "cpx3.index = cpx3.index.map(rename_techs)\n",
    "cpx3"
   ]
  },
  {
   "cell_type": "markdown",
   "metadata": {},
   "source": [
    "## plot electricy generation map"
   ]
  },
  {
   "cell_type": "code",
   "execution_count": null,
   "metadata": {},
   "outputs": [],
   "source": [
    "from plot_network import plot_energy_map\n",
    "from _plot_utilities import set_plot_style\n",
    "set_plot_style(\n",
    "    style_config_file= r\"/home/ivanra/documents/PyPSA-China-PIK/config/plotting_styles/network_map.mplstyle\",\n",
    "    #snakemake.config[\"plotting\"][\"network_style_config_file\"],\n",
    "    base_styles=[\"classic\", \"seaborn-v0_8-white\"],\n",
    ")\n",
    "plot_energy_map(n,config[\"plotting\"], carrier=\"AC\")"
   ]
  },
  {
   "cell_type": "code",
   "execution_count": null,
   "metadata": {},
   "outputs": [],
   "source": [
    "plot_ntwk = n.copy()\n",
    "carrier = \"H2\"\n",
    "# avoid cluttering the plot\n",
    "plot_ntwk.buses.drop(plot_ntwk.buses.index[plot_ntwk.buses.carrier != carrier], inplace=True)\n",
    "plot_ntwk.links.drop(\n",
    "    plot_ntwk.links.index[plot_ntwk.links.length == 0],\n",
    "    inplace=True,\n",
    ")\n",
    "\n",
    "supply_pies = plot_ntwk.statistics.supply(\n",
    "        groupby=pypsa.statistics.get_bus_and_carrier, bus_carrier=carrier, comps=[\"Generator\"]\n",
    "    ).droplevel(0)\n",
    "\n",
    "# get all carrier types\n",
    "carriers_list = supply_pies.index.get_level_values(1).unique()\n",
    "carriers_list = carriers_list.tolist()\n",
    "\n",
    "# TODO make line handling nicer\n",
    "line_lower_threshold = 500.0\n",
    "line_upper_threshold = 1e4\n",
    "# Make figure\n",
    "fig, ax = plt.subplots(subplot_kw={\"projection\": ccrs.PlateCarree()})\n",
    "fig.set_size_inches(opts[\"energy_map\"][\"figsize\"])\n",
    "# get colors\n",
    "bus_colors = plot_ntwk.carriers.loc[plot_ntwk.carriers.nice_name.isin(carriers_list), \"color\"]\n",
    "bus_colors.rename(opts[\"nice_names\"], inplace=True)\n",
    "# Add the total costs\n",
    "bus_size_factor = opts[\"energy_map\"][\"bus_size_factor\"]/1e2\n",
    "linewidth_factor = opts[\"energy_map\"][\"linewidth_factor\"]*1\n",
    "edges = pd.concat([plot_ntwk.lines.s_nom_opt, plot_ntwk.links.p_nom_opt])\n",
    "edge_widths = (\n",
    "    edges\n",
    "    .clip(line_lower_threshold, edges.max())\n",
    "    .replace(line_lower_threshold, 0)\n",
    ")\n",
    "preferred_order = pd.Index(opts[\"preferred_order\"])\n",
    "reordered = preferred_order.intersection(bus_colors.index).append(\n",
    "    bus_colors.index.difference(preferred_order)\n",
    ")\n",
    "\n",
    "plot_map(\n",
    "    plot_ntwk,\n",
    "    tech_colors=plot_ntwk.carriers.color,\n",
    "    edge_widths=edge_widths / linewidth_factor,\n",
    "    bus_colors=bus_colors.loc[reordered],\n",
    "    bus_sizes=supply_pies / 1,\n",
    "    edge_colors=\"indigo\",\n",
    "    ax=ax,\n",
    "    edge_unit_conv=PLOT_CAP_UNITS,\n",
    "    bus_unit_conv=PLOT_SUPPLY_UNITS,\n",
    "    add_legend=False,\n",
    "    **opts[\"energy_map\"],\n",
    ")"
   ]
  },
  {
   "cell_type": "markdown",
   "metadata": {},
   "source": [
    "## plot capacity"
   ]
  },
  {
   "cell_type": "markdown",
   "metadata": {},
   "source": [
    "## plot cost"
   ]
  },
  {
   "cell_type": "markdown",
   "metadata": {},
   "source": [
    "## Interactive plot map"
   ]
  },
  {
   "cell_type": "code",
   "execution_count": null,
   "metadata": {},
   "outputs": [],
   "source": [
    "\n",
    "import numpy as np\n",
    "# make names and link sizes, make sure we only plot AC, DC & statiosn\n",
    "ac_links = n.links[n.links.carrier == \"AC\"]\n",
    "colors = n.links.index.to_series().apply(lambda x: 'black' if 'ext' in x else 'pink')\n",
    "widths = np.log(n.links.p_nom_opt + 3) / 2\n",
    "widths[~widths.index.isin(ac_links.index)] = 0\n",
    "widths[widths.index.str.contains('reversed')] = 0\n",
    "names = n.links.copy()\n",
    "names[\"name\"] = names.index.values\n",
    "names.loc[~names.index.isin(ac_links.index), \"p_nom_opt\"] = \"\"\n",
    "names.loc[~names.index.isin(ac_links.index), \"name\"] = \"\"\n",
    "buses = n.buses.copy()\n",
    "buses[\"name\"] = buses.apply(lambda x: f\"{x.name}\" if x.carrier == \"AC\" or x.carrier==\"stations\" else \"\", axis=1)\n",
    "buses[\"sizes\"] = buses.apply(lambda x:10 if x.carrier == \"AC\" or x.carrier==\"stations\" else 0, axis=1)\n",
    "buses[\"colors\"] = buses.apply(lambda x: \"black\" if x.carrier == \"AC\" else \"red\", axis=1)\n",
    "buses.carrier.unique()\n",
    "ax = n.iplot(link_colors=colors, link_widths=widths, link_text = names.p_nom_opt.astype(str) + names.name, bus_text=buses.name, bus_sizes=buses.sizes, bus_colors=buses.colors)"
   ]
  },
  {
   "cell_type": "code",
   "execution_count": null,
   "metadata": {},
   "outputs": [],
   "source": [
    "n.links[(n.links.length != 0)&(n.links.index.str.find(\"reversed\")<0)].p_nom_opt.sort_values(ascending=False).round(2).head(20)"
   ]
  },
  {
   "cell_type": "markdown",
   "metadata": {},
   "source": [
    "### extendable lines"
   ]
  },
  {
   "cell_type": "code",
   "execution_count": null,
   "metadata": {},
   "outputs": [],
   "source": [
    "\n",
    "fig, ax = plt.subplots(1, 1, figsize=(10, 10),subplot_kw={\"projection\":ccrs.PlateCarree()})\n",
    "def width(x):\n",
    "    return np.log10(x/1e6).where(x>1,0)\n",
    "n.plot(ax = ax,link_colors=n.links.p_nom_extendable.apply(lambda x: \"red\" if not x else \"black\"),line_colors=n.lines.s_nom_extendable.apply(lambda x: \"red\" if not x else \"black\"), link_widths= width(n.links.p_nom_opt) , line_widths=width(n.lines.s_nom_opt), link_alpha=0.5)\n",
    "# Create custom legend\n",
    "import matplotlib.patches as mpatches\n",
    "extendable_patch = mpatches.Patch(color='black', label='Extendable')\n",
    "non_extendable_patch = mpatches.Patch(color='red', label='Non-extendable')\n",
    "ax.legend(handles=[extendable_patch, non_extendable_patch], title = \"Links/Lines log width\")"
   ]
  },
  {
   "cell_type": "code",
   "execution_count": null,
   "metadata": {},
   "outputs": [],
   "source": []
  },
  {
   "cell_type": "markdown",
   "metadata": {},
   "source": [
    "# Shadow prices & prices"
   ]
  },
  {
   "cell_type": "code",
   "execution_count": null,
   "metadata": {},
   "outputs": [],
   "source": [
    "n.global_constraints"
   ]
  },
  {
   "cell_type": "markdown",
   "metadata": {},
   "source": [
    "# CO2 emissions"
   ]
  },
  {
   "cell_type": "code",
   "execution_count": null,
   "metadata": {},
   "outputs": [],
   "source": [
    "CO2_CONV = 1e6 # t->Mt\n",
    "def calc_co2(n:pypsa.Network, withdrawal_stores = [\"CO2 capture\"])->tuple[float,float,float]:\n",
    "    \"\"\"calc the co2 balance\n",
    "    [DOES NOT INCLUDE GENERATING]\n",
    "    Args:\n",
    "        n (pypsa.Network): the network object\n",
    "        withdrawal_stores (list, optional): names of stores. Defaults to [\"CO2 capture\"].\n",
    "\n",
    "    Returns:\n",
    "        tuple[float,float,float]: balance, gen, withdrawal\n",
    "    \"\"\"\n",
    "    # emissions from generators (from fneumann course)\n",
    "    emissions = (\n",
    "    n.generators_t.p\n",
    "    / n.generators.efficiency\n",
    "    * n.generators.carrier.map(n.carriers.co2_emissions)\n",
    "    )  # t/h\n",
    "    gen_emissions = n.snapshot_weightings.generators @ emissions.sum(axis=1).div(CO2_CONV)  # Mt\n",
    "\n",
    "    # withdrawal\n",
    "    stores = n.stores_t.e.T.groupby(n.stores.carrier).sum()\n",
    "    \n",
    "    co2_cap = stores.iloc[:, -1].loc[withdrawal_stores].sum()/CO2_CONV # Mt\n",
    "\n",
    "    return gen_emissions-co2_cap, gen_emissions, co2_cap\n",
    "\n"
   ]
  },
  {
   "cell_type": "code",
   "execution_count": null,
   "metadata": {},
   "outputs": [],
   "source": [
    "n.links.carrier.unique()"
   ]
  },
  {
   "cell_type": "code",
   "execution_count": null,
   "metadata": {},
   "outputs": [],
   "source": [
    "def calc_co2_balance(n:pypsa.Network, withdrawal_stores = [\"CO2 capture\"], ax = None)->tuple[float,float,float]:\n",
    "    \"\"\"calc the co2 balance\n",
    "    [DOES NOT INCLUDE GENERATING LINKSs]\n",
    "    Args:\n",
    "        n (pypsa.Network): the network object\n",
    "        withdrawal_stores (list, optional): names of stores. Defaults to [\"CO2 capture\"].\n",
    "\n",
    "    Returns:\n",
    "        tuple[float,float,float]: balance, gen, withdrawal\n",
    "    \"\"\"\n",
    "\n",
    "    # year *(assumes one planning year intended),\n",
    "    year = int(np.round(n.snapshots.year.values.mean(),0))\n",
    "\n",
    "    # emissions from generators (from fneumann course)\n",
    "    emissions = (\n",
    "    n.generators_t.p\n",
    "    / n.generators.efficiency\n",
    "    * n.generators.carrier.map(n.carriers.co2_emissions)\n",
    "    )  # t/h\n",
    "    emissions_carrier =(n.snapshot_weightings.generators @ emissions).groupby(n.generators.carrier).sum()\n",
    "    \n",
    "    # format and drop 0 values\n",
    "    emissions_carrier = emissions_carrier.where(emissions_carrier > 0).dropna()\n",
    "    emissions_carrier.rename(year, inplace=True)\n",
    "    emissions_carrier = emissions_carrier.div(CO2_CONV).to_frame()\n",
    "    # CO2 withdrawal\n",
    "    stores = n.stores_t.e.T.groupby(n.stores.carrier).sum()\n",
    "    co2_withdrawal = stores.iloc[:, -1].loc[withdrawal_stores]*-1/CO2_CONV # Mt\n",
    "    co2_withdrawal.rename(year, inplace=True)\n",
    "    co2_withdrawal = co2_withdrawal.to_frame()\n",
    "\n",
    "    return pd.concat([emissions_carrier, co2_withdrawal])\n",
    "\n",
    "co2_balance = calc_co2_balance(n)\n",
    "co2_balance.to_csv(\"co2_balance.csv\")"
   ]
  },
  {
   "cell_type": "code",
   "execution_count": null,
   "metadata": {},
   "outputs": [],
   "source": [
    "fig, ax = plt.subplots()\n",
    "# calc the t resolved CO2 emissions from generators\n",
    "((n.generators_t.p/ n.generators.efficiency)* n.generators.carrier.map(n.carriers.co2_emissions)).T.groupby(n.generators.carrier).sum().T.plot(ax =ax, cmap =\"jet\")"
   ]
  },
  {
   "cell_type": "code",
   "execution_count": null,
   "metadata": {},
   "outputs": [],
   "source": [
    "gen_emissions = ((n.generators_t.p/ n.generators.efficiency)* n.generators.carrier.map(n.carriers.co2_emissions)).T.groupby(n.generators.carrier).sum().T.cumsum()\n",
    "fig, ax = plt.subplots()\n",
    "gen_emissions.where(gen_emissions>0).dropna(axis=1, how=\"all\").plot(ax=ax)\n",
    "ax.set_ylabel(\"cum CO2 emissions [t]\")\n"
   ]
  },
  {
   "cell_type": "code",
   "execution_count": null,
   "metadata": {},
   "outputs": [],
   "source": [
    "fig, ax = plt.subplots()\n",
    "# calc the t resolved CO2 emissions from generators\n",
    "((n.generators_t.p/ n.generators.efficiency)* n.generators.carrier.map(n.carriers.co2_emissions)).T.groupby(n.generators.carrier).sum().sum().T.cumsum().plot(ax =ax, label = \"CO2 emissions (cum)\", lw=4, c =\"black\", ls = \"--\")\n",
    "n.stores_t.e.T.groupby(n.stores.carrier).sum().loc[[\"CO2\",\"H2\", \"CO2 capture\", \"gas\", \"biomass\"]].T.plot(lw=4, cmap =\"jet\", ax =ax)\n",
    "ax.legend()\n",
    "ax.semilogy()\n",
    "ax.set_ylim(1e3,1e10)\n",
    "ax.set_ylabel(\"carrier stock\")"
   ]
  },
  {
   "cell_type": "markdown",
   "metadata": {},
   "source": [
    "## CO2 capture\n",
    "! beware the store is the difference :)"
   ]
  },
  {
   "cell_type": "code",
   "execution_count": null,
   "metadata": {},
   "outputs": [],
   "source": [
    "stores = n.stores_t.e.T.groupby(n.stores.carrier).sum()\n",
    "diff = stores.iloc[:, -1] -stores.iloc[:, 0]\n",
    "co2_cap = stores.iloc[:, -1].loc[[\"CO2 capture\"]].sum()\n",
    "co2_cap\n"
   ]
  },
  {
   "cell_type": "code",
   "execution_count": null,
   "metadata": {},
   "outputs": [],
   "source": [
    "n.stores_t.e.T.groupby(n.stores.carrier).sum().T.plot(lw=4, cmap =\"jet\")"
   ]
  },
  {
   "cell_type": "code",
   "execution_count": null,
   "metadata": {},
   "outputs": [],
   "source": [
    "n.stores[n.stores.carrier == \"CO2 capture\"].e_nom_opt.sum()/1e6"
   ]
  },
  {
   "cell_type": "code",
   "execution_count": null,
   "metadata": {},
   "outputs": [],
   "source": [
    "n.links[n.links.carrier == \"CO2 capture\"]"
   ]
  },
  {
   "cell_type": "markdown",
   "metadata": {},
   "source": [
    "# plot time series"
   ]
  },
  {
   "cell_type": "code",
   "execution_count": null,
   "metadata": {},
   "outputs": [],
   "source": [
    "from plot_time_series import plot_energy_balance"
   ]
  },
  {
   "cell_type": "code",
   "execution_count": null,
   "metadata": {},
   "outputs": [],
   "source": [
    "ax = plot_energy_balance(n, config[\"plotting\"], start_date=\"2060-03-31 21:00\", end_date=\"2060-04-06 12:00:00\")\n",
    "ax.grid(axis='y')\n",
    "ax.set_title(\"Electricity Balance\")"
   ]
  },
  {
   "cell_type": "code",
   "execution_count": null,
   "metadata": {},
   "outputs": [],
   "source": [
    "ax = plot_energy_balance(n, config[\"plotting\"], start_date=\"2060-03-31 21:00\", end_date=\"2060-04-06 12:00:00\", bus_carrier=\"heat\")\n",
    "ax.set_title(\"Heat balance\")"
   ]
  },
  {
   "cell_type": "code",
   "execution_count": null,
   "metadata": {},
   "outputs": [],
   "source": []
  },
  {
   "cell_type": "code",
   "execution_count": null,
   "metadata": {},
   "outputs": [],
   "source": [
    "fix, ax = plt.subplots()\n",
    "ds_AC = n.statistics.withdrawal(bus_carrier=\"AC\", aggregate_time=False).loc[(\"Load\", \"-\")]/1e3\n",
    "ds_heat = n.statistics.withdrawal(bus_carrier=\"heat\", aggregate_time=False).loc[(\"Load\", \"-\")]/1e3\n",
    "ds_AC.plot(ax=ax, label=\"Electricity\",  c=\"orange\")\n",
    "ds_heat.plot(ax=ax, label=\"Heat\", c = \"blue\")\n",
    "ax.legend()\n",
    "ax.set_ylabel(\"EnergyDemand / GW\")"
   ]
  },
  {
   "cell_type": "code",
   "execution_count": null,
   "metadata": {},
   "outputs": [],
   "source": [
    "capacity_factors = n.statistics.capacity_factor(aggregate_time=False).loc[[\"Generator\"]].droplevel(0).T"
   ]
  },
  {
   "cell_type": "code",
   "execution_count": null,
   "metadata": {},
   "outputs": [],
   "source": [
    "capacity_factors[\"Onshore Wind\"].mean(), capacity_factors[\"Offshore Wind\"].mean(),  capacity_factors[\"Solar\"].mean()"
   ]
  },
  {
   "cell_type": "code",
   "execution_count": null,
   "metadata": {},
   "outputs": [],
   "source": [
    "axes = capacity_factors.dropna(axis=1, how=\"all\").fillna(0).plot(subplots=True, figsize=(10,12))\n",
    "for ax in axes:\n",
    "    ax.set_ylim([0,1.1])\n",
    "    ax.set_yticks([0,0.3, 0.6,1])"
   ]
  },
  {
   "cell_type": "code",
   "execution_count": null,
   "metadata": {},
   "outputs": [],
   "source": [
    "n.generators[n.generators.carrier.isin(['onwind',\n",
    "       'offwind'])].p_max_pu"
   ]
  },
  {
   "cell_type": "code",
   "execution_count": null,
   "metadata": {},
   "outputs": [],
   "source": [
    "n.generators[n.generators.carrier.isin(['onwind',\"offwind\"])]"
   ]
  },
  {
   "cell_type": "code",
   "execution_count": null,
   "metadata": {},
   "outputs": [],
   "source": [
    "cap_fac = n.generators_t.p_max_pu\n",
    "cap_fac_w = cap_fac[[c for c in cap_fac.columns if c.find(\"wind\")>=0]]\n",
    "cap_fac_offw = cap_fac[[c for c in cap_fac.columns if c.find(\"offwind\")>=0]]\n",
    "\n",
    "cap_fac_onw = cap_fac[[c for c in cap_fac.columns if c.find(\"onwind\")>=0]]"
   ]
  },
  {
   "cell_type": "code",
   "execution_count": null,
   "metadata": {},
   "outputs": [],
   "source": []
  },
  {
   "cell_type": "code",
   "execution_count": null,
   "metadata": {},
   "outputs": [],
   "source": [
    "cap_fac_onw.columns.to_list()"
   ]
  },
  {
   "cell_type": "code",
   "execution_count": null,
   "metadata": {},
   "outputs": [],
   "source": []
  },
  {
   "cell_type": "code",
   "execution_count": null,
   "metadata": {},
   "outputs": [],
   "source": [
    "cap_fac_w.T.groupby(n.generators.carrier).sum()"
   ]
  },
  {
   "cell_type": "markdown",
   "metadata": {},
   "source": [
    "# Pypsa eur"
   ]
  },
  {
   "cell_type": "markdown",
   "metadata": {},
   "source": [
    "# Plot time series (dev sandbox)"
   ]
  },
  {
   "cell_type": "code",
   "execution_count": null,
   "metadata": {},
   "outputs": [],
   "source": [
    "p_by_carrier = n.generators_t.p.T.groupby(n.generators.carrier).sum().T.div(1e3)\n",
    "fig, ax = plt.subplots(figsize=(11, 4))\n",
    "\n",
    "p_by_carrier.plot(\n",
    "    kind=\"area\",\n",
    "    ax=ax,\n",
    "    linewidth=0,\n",
    "    # cmap=\"tab20b\",\n",
    "    color = p_by_carrier.columns.map(n.carriers.color),\n",
    ")\n",
    "\n",
    "ax.legend(ncol=5, loc=\"upper left\", frameon=False)\n",
    "\n",
    "ax.set_ylabel(\"GW\")\n",
    "\n",
    "# ax.set_ylim(0, 80);"
   ]
  },
  {
   "cell_type": "markdown",
   "metadata": {},
   "source": [
    "# COSTS"
   ]
  },
  {
   "cell_type": "code",
   "execution_count": null,
   "metadata": {},
   "outputs": [],
   "source": [
    "# from plot_summary_all import plot_pathway_costs\n",
    "# data_paths = {\n",
    "#     \"energy\": [os.path.join(p, \"energy.csv\") for p in paths],\n",
    "#     \"costs\": [os.path.join(p, \"costs.csv\") for p in paths],\n",
    "#     \"co2_price\": [os.path.join(p, \"metrics.csv\") for p in paths],\n",
    "#     \"prices\": [os.path.join(p, \"prices.csv\") for p in paths],\n",
    "# }\n",
    "# plot_pathway_costs(data_paths[\"costs\"], config[\"plotting\"], fig_name=None)"
   ]
  },
  {
   "cell_type": "code",
   "execution_count": null,
   "metadata": {},
   "outputs": [],
   "source": [
    "n.stores_t.e.T.groupby(n.stores.carrier).sum().T.plot()"
   ]
  },
  {
   "cell_type": "code",
   "execution_count": null,
   "metadata": {},
   "outputs": [],
   "source": [
    "flow = n.stores_t.p.T.groupby(n.stores.carrier).sum()\n",
    "flow[flow>0].fillna(0).T.sum()"
   ]
  },
  {
   "cell_type": "code",
   "execution_count": null,
   "metadata": {},
   "outputs": [],
   "source": [
    "stores = n.stores_t.e.T.groupby(n.stores.carrier).sum()\n",
    "stores"
   ]
  },
  {
   "cell_type": "code",
   "execution_count": null,
   "metadata": {},
   "outputs": [],
   "source": [
    "config[\"plotting\"][\"nice_names\"][\"AC\"]"
   ]
  },
  {
   "cell_type": "code",
   "execution_count": null,
   "metadata": {},
   "outputs": [],
   "source": [
    "\n",
    "    loads = n.statistics.revenue(\n",
    "        comps=\"Load\", groupby=pypsa.statistics.get_bus_carrier\n",
    "    ) / n.statistics.withdrawal(comps=\"Load\", groupby=pypsa.statistics.get_bus_carrier)\n"
   ]
  },
  {
   "cell_type": "code",
   "execution_count": null,
   "metadata": {},
   "outputs": [],
   "source": [
    "loads.rename(index={\"AC\": \"electricity\"}, inplace=True)\n",
    "loads"
   ]
  },
  {
   "cell_type": "code",
   "execution_count": null,
   "metadata": {},
   "outputs": [],
   "source": [
    "114.844477+28.538271"
   ]
  },
  {
   "cell_type": "code",
   "execution_count": null,
   "metadata": {},
   "outputs": [],
   "source": [
    "n.global_constraints"
   ]
  },
  {
   "cell_type": "code",
   "execution_count": null,
   "metadata": {},
   "outputs": [],
   "source": [
    "n.buses_t.marginal_price.apply(lambda x: (x <= 0).sum()).groupby(n.buses.carrier).sum().loc[\"AC\"]"
   ]
  },
  {
   "cell_type": "code",
   "execution_count": null,
   "metadata": {},
   "outputs": [],
   "source": [
    "buses = n.buses.index[n.buses.carrier == \"AC\"]\n",
    "n.buses_t.marginal_price[buses].std"
   ]
  },
  {
   "cell_type": "code",
   "execution_count": null,
   "metadata": {},
   "outputs": [],
   "source": [
    "from make_summary import make_summaries\n",
    "make_summaries({(\"exp175-paper\", 2060):ntw_path})[\"curtailment_pc\"]"
   ]
  },
  {
   "cell_type": "code",
   "execution_count": null,
   "metadata": {},
   "outputs": [],
   "source": [
    "    p_avail_by_carr = (\n",
    "        n.generators_t.p_max_pu.multiply(n.generators.p_nom_opt)\n",
    "        .sum()\n",
    "        .groupby(n.generators.carrier)\n",
    "        .sum()\n",
    "    )\n",
    "    used = n.generators_t.p.sum().groupby(n.generators.carrier).sum()\n"
   ]
  },
  {
   "cell_type": "code",
   "execution_count": null,
   "metadata": {},
   "outputs": [],
   "source": [
    "(p_avail_by_carr - used).clip(0) / p_avail_by_carr"
   ]
  },
  {
   "cell_type": "code",
   "execution_count": null,
   "metadata": {},
   "outputs": [],
   "source": [
    "w = n.statistics.withdrawal(comps=\"Store\")\n",
    "w[w==0] = n.statistics.supply(comps=\"Store\")[w==0]\n",
    "pd.concat([ loads,n.statistics.revenue(comps=\"Store\")/ w])"
   ]
  },
  {
   "cell_type": "markdown",
   "metadata": {},
   "source": [
    "# STATS"
   ]
  },
  {
   "cell_type": "code",
   "execution_count": null,
   "metadata": {},
   "outputs": [],
   "source": [
    "bus_carrier = \"AC\"\n",
    "n.loads.carrier = \"load\"\n",
    "n.carriers.loc[\"load\", [\"nice_name\", \"color\"]] = \"Load\", \"darkred\"\n",
    "colors = n.carriers.set_index(\"nice_name\").color.where(\n",
    "    lambda s: s != \"\", \"lightgrey\"\n",
    ")\n",
    "\n",
    "def rename_index(ds):\n",
    "    specific = ds.index.map(lambda x: f\"{x[1]}\\n({x[0]})\")\n",
    "    generic = ds.index.get_level_values(\"carrier\")\n",
    "    duplicated = generic.duplicated(keep=False)\n",
    "    index = specific.where(duplicated, generic)\n",
    "    return ds.set_axis(index)\n",
    "\n",
    "def plot_static_per_carrier(ds, ax, drop_zero=True):\n",
    "    if drop_zero:\n",
    "        ds = ds[ds != 0]\n",
    "    ds = ds.dropna()\n",
    "    c = colors[ds.index.get_level_values(\"carrier\")]\n",
    "    ds = ds.pipe(rename_index)\n",
    "    label = f\"{ds.attrs['name']} [{ds.attrs['unit']}]\"\n",
    "    ds.plot.barh(color=c.values, xlabel=label, ax=ax)\n",
    "    ax.grid(axis=\"y\")\n",
    "\n",
    "fig, ax = plt.subplots()\n",
    "ds = n.statistics.capacity_factor(bus_carrier=bus_carrier).dropna()\n",
    "plot_static_per_carrier(ds, ax)\n",
    "plt.show()\n",
    "\n",
    "fig, ax = plt.subplots()\n",
    "ds = n.statistics.installed_capacity(bus_carrier=bus_carrier).dropna()\n",
    "if \"Line\" in ds.index:\n",
    "    ds = ds.drop(\"Line\")\n",
    "ds = ds.drop((\"Generator\", \"Load\"), errors=\"ignore\")\n",
    "ds = ds / 1e3\n",
    "ds.attrs[\"unit\"] = \"GW\"\n",
    "plot_static_per_carrier(ds.abs(), ax)\n",
    "plt.show()\n",
    "\n",
    "fig, ax = plt.subplots()\n",
    "ds = n.statistics.optimal_capacity(bus_carrier=bus_carrier)\n",
    "if \"Line\" in ds.index:\n",
    "    ds = ds.drop(\"Line\")\n",
    "ds = ds.drop((\"Generator\", \"Load\"), errors=\"ignore\")\n",
    "ds = ds.abs() / 1e3\n",
    "ds.attrs[\"unit\"] = \"GW\"\n",
    "plot_static_per_carrier(ds, ax)\n",
    "plt.show()\n",
    "\n",
    "fig, ax = plt.subplots()\n",
    "ds = n.statistics.capex(bus_carrier=bus_carrier)\n",
    "plot_static_per_carrier(ds, ax)\n",
    "plt.show()\n",
    "\n",
    "fig, ax = plt.subplots()\n",
    "ds = n.statistics.opex(bus_carrier=bus_carrier)\n",
    "plot_static_per_carrier(ds, ax)\n",
    "plt.show()\n",
    "\n",
    "fig, ax = plt.subplots()\n",
    "ds = n.statistics.curtailment(bus_carrier=bus_carrier)\n",
    "plot_static_per_carrier(ds, ax)\n",
    "plt.show()\n",
    "\n",
    "fig, ax = plt.subplots()\n",
    "ds = n.statistics.supply(bus_carrier=bus_carrier)\n",
    "if \"Line\" in ds.index:\n",
    "    ds = ds.drop(\"Line\")\n",
    "ds = ds / 1e6\n",
    "ds.attrs[\"unit\"] = \"TWh\"\n",
    "plot_static_per_carrier(ds, ax)\n",
    "plt.show()\n",
    "\n",
    "fig, ax = plt.subplots()\n",
    "ds = n.statistics.withdrawal(bus_carrier=bus_carrier)\n",
    "if \"Line\" in ds.index:\n",
    "    ds = ds.drop(\"Line\")\n",
    "ds = ds / -1e6\n",
    "ds.attrs[\"unit\"] = \"TWh\"\n",
    "plot_static_per_carrier(ds, ax)\n",
    "plt.show()\n",
    "\n",
    "fig, ax = plt.subplots()\n",
    "ds = n.statistics.market_value(bus_carrier=bus_carrier)\n",
    "plot_static_per_carrier(ds, ax)\n",
    "plt.show()"
   ]
  },
  {
   "cell_type": "code",
   "execution_count": null,
   "metadata": {},
   "outputs": [],
   "source": [
    "ds = n.statistics.installed_capacity(bus_carrier=bus_carrier).dropna()\n",
    "\n",
    "ds = ds[ds != 0]\n",
    "ds = ds.dropna()\n",
    "c = colors[ds.index.get_level_values(\"carrier\")]\n",
    "# ds = ds.pipe(rename_index)\n",
    "# label = f\"{ds.attrs['name']} [{ds.attrs['unit']}]\"\n",
    "# ds.plot.barh(color=c.values, xlabel=label, ax=ax)\n",
    "# ax.grid(axis=\"y\")\n",
    "ds"
   ]
  },
  {
   "cell_type": "markdown",
   "metadata": {},
   "source": [
    "# Network topology"
   ]
  },
  {
   "cell_type": "code",
   "execution_count": null,
   "metadata": {},
   "outputs": [],
   "source": [
    "n.determine_network_topology()\n",
    "n.sub_networks[\"n_branches\"] = [\n",
    "    len(sn.branches()) for sn in n.sub_networks.obj\n",
    "]\n",
    "n.sub_networks[\"n_buses\"] = [len(sn.buses()) for sn in n.sub_networks.obj]\n",
    "\n",
    "n.sub_networks\n",
    "\n"
   ]
  },
  {
   "cell_type": "markdown",
   "metadata": {},
   "source": [
    "# EXAMPLES"
   ]
  }
 ],
 "metadata": {
  "kernelspec": {
   "display_name": "pypsa-china",
   "language": "python",
   "name": "python3"
  },
  "language_info": {
   "codemirror_mode": {
    "name": "ipython",
    "version": 3
   },
   "file_extension": ".py",
   "mimetype": "text/x-python",
   "name": "python",
   "nbconvert_exporter": "python",
   "pygments_lexer": "ipython3",
   "version": "3.12.7"
  }
 },
 "nbformat": 4,
 "nbformat_minor": 2
}
