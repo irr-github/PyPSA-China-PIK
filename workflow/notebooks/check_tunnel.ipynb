{
 "cells": [
  {
   "cell_type": "code",
   "execution_count": 1,
   "metadata": {},
   "outputs": [
    {
     "name": "stdout",
     "output_type": "stream",
     "text": [
      "隧道在端口 1080 上是开放的。\n"
     ]
    }
   ],
   "source": [
    "import socket\n",
    "\n",
    "def is_port_open(host, port):\n",
    "    \"\"\"检查指定主机和端口是否开放\"\"\"\n",
    "    sock = socket.socket(socket.AF_INET, socket.SOCK_STREAM)\n",
    "    sock.settimeout(2)  # 设置连接尝试的超时时间\n",
    "    try:\n",
    "        sock.connect((host, port))\n",
    "        return True\n",
    "    except (socket.timeout, socket.error):\n",
    "        return False\n",
    "    finally:\n",
    "        sock.close()\n",
    "\n",
    "# 测试 SSH 隧道\n",
    "tunnel_port = 1080  # 替换为您实际使用的端口\n",
    "if is_port_open(\"127.0.0.1\", tunnel_port):\n",
    "    print(f\"隧道在端口 {tunnel_port} 上是开放的。\")\n",
    "else:\n",
    "    print(f\"隧道在端口 {tunnel_port} 上没有开放。\")"
   ]
  }
 ],
 "metadata": {
  "kernelspec": {
   "display_name": "pypsa-china",
   "language": "python",
   "name": "python3"
  },
  "language_info": {
   "codemirror_mode": {
    "name": "ipython",
    "version": 3
   },
   "file_extension": ".py",
   "mimetype": "text/x-python",
   "name": "python",
   "nbconvert_exporter": "python",
   "pygments_lexer": "ipython3",
   "version": "3.12.7"
  }
 },
 "nbformat": 4,
 "nbformat_minor": 2
}
