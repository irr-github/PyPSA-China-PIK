{
 "cells": [
  {
   "cell_type": "markdown",
   "metadata": {},
   "source": [
    "## Get data from copernicus"
   ]
  },
  {
   "cell_type": "code",
   "execution_count": null,
   "metadata": {},
   "outputs": [],
   "source": [
    "import geopandas as gpd\n",
    "\n",
    "china = gpd.read_file(\n",
    "    \"/home/ivanra/documents/PyPSA-China-PIK/resources/data/regions/regions_onshore.geojson\"\n",
    ")\n",
    "bbox_china = china.total_bounds[[2, 3, 0, 1]].tolist()"
   ]
  },
  {
   "cell_type": "markdown",
   "metadata": {},
   "source": [
    "## 1. Authenticate"
   ]
  },
  {
   "cell_type": "code",
   "execution_count": null,
   "metadata": {},
   "outputs": [],
   "source": [
    "import json\n",
    "import os\n",
    "import time\n",
    "\n",
    "import jwt\n",
    "import requests\n",
    "\n",
    "# Load saved key from filesystem\n",
    "TOKEN_PATH = os.path.expanduser(\"~/documents/token_land_cover_copernicus.json\")\n",
    "service_key = json.load(open(TOKEN_PATH, \"rb\"))\n",
    "\n",
    "private_key = service_key[\"private_key\"].encode(\"utf-8\")\n",
    "\n",
    "claim_set = {\n",
    "    \"iss\": service_key[\"client_id\"],\n",
    "    \"sub\": service_key[\"user_id\"],\n",
    "    \"aud\": service_key[\"token_uri\"],\n",
    "    \"iat\": int(time.time()),\n",
    "    \"exp\": int(time.time() + (60 * 60)),\n",
    "}\n",
    "grant = jwt.encode(claim_set, private_key, algorithm=\"RS256\")\n",
    "base_url = claim_set[\"aud\"]\n",
    "token_request = requests.post(\n",
    "    base_url,\n",
    "    headers={\n",
    "        \"Accept\": \"application/json\",\n",
    "        \"Content-Type\": \"application/x-www-form-urlencoded\",\n",
    "    },\n",
    "    data=f\"grant_type=urn:ietf:params:oauth:grant-type:jwt-bearer&assertion={grant}\",\n",
    ")\n",
    "if token_request.status_code != 200:\n",
    "    print(token_request.text)\n",
    "    exit(1)\n",
    "token = token_request.json()"
   ]
  },
  {
   "cell_type": "code",
   "execution_count": null,
   "metadata": {},
   "outputs": [],
   "source": [
    "token"
   ]
  },
  {
   "cell_type": "code",
   "execution_count": null,
   "metadata": {},
   "outputs": [],
   "source": [
    "auth_rqst = requests.get(\n",
    "    \"https://land.copernicus.eu/api\",\n",
    "    headers={\n",
    "        \"Authorization\": f\"Bearer {token['access_token']}\",\n",
    "        \"Accept\": \"application/json\",\n",
    "    },\n",
    ")\n",
    "if auth_rqst.status_code != 200:\n",
    "    print(auth_rqst.text)\n",
    "    exit(1)\n",
    "auth_rqst.json()"
   ]
  },
  {
   "cell_type": "code",
   "execution_count": null,
   "metadata": {},
   "outputs": [],
   "source": [
    "auth_rqst = requests.get(\n",
    "    \"https://land.copernicus.eu/api/en/products/global-dynamic-land-cover/copernicus-global-land-service-land-cover-100m-collection-3-epoch-2019-globe\",\n",
    "    headers={\n",
    "        \"Authorization\": f\"Bearer {token['access_token']}\",\n",
    "        \"Accept\": \"application/json\",\n",
    "    },\n",
    ")\n",
    "if auth_rqst.status_code != 200:\n",
    "    print(auth_rqst.text)\n",
    "    exit(1)\n",
    "auth_rqst"
   ]
  },
  {
   "cell_type": "code",
   "execution_count": null,
   "metadata": {},
   "outputs": [],
   "source": [
    "auth_rqst.json()"
   ]
  },
  {
   "cell_type": "code",
   "execution_count": null,
   "metadata": {},
   "outputs": [],
   "source": [
    "def search_items(json_return: dict, target_name=\"global-dynamic-land-cover\"):\n",
    "    return [\n",
    "        itm[\"@id\"] for itm in json_return[\"items\"] if itm[\"@id\"].find(target_name) != -1\n",
    "    ]\n",
    "\n",
    "\n",
    "def find_data_set_id(name=\"global-dynamic-land-cover\") -> dict:\n",
    "    \"\"\"Find the catalogue ID of the dataset\n",
    "\n",
    "    Args:\n",
    "        name (str, optional): dataset product name. Defaults to \"global-dynamic-land-cover\".\n",
    "\n",
    "    Returns:\n",
    "        dict: the results\n",
    "    \"\"\"\n",
    "    bid = 0\n",
    "    # batches of 25\n",
    "    while True:\n",
    "        batch = \"\" if bid == 0 else f\"b_start={bid}&\"\n",
    "        search_req = requests.get(\n",
    "            f\"https://land.copernicus.eu/api/@search?{batch}portal_type=DataSet&metadata_fields=UID&metadata_fields=dataset_full_format&&metadata_fields=dataset_download_information\",\n",
    "            headers={\"Accept\": \"application/json\"},\n",
    "        )\n",
    "        if search_req.status_code != 200:\n",
    "            print(search_req.text)\n",
    "            exit(1)\n",
    "        search_results = search_req.json()\n",
    "        res = search_items(search_results, target_name=name)\n",
    "        if res == []:\n",
    "            bid += 25\n",
    "        else:\n",
    "            return search_results\n",
    "\n",
    "\n",
    "res = find_data_set_id()"
   ]
  },
  {
   "cell_type": "code",
   "execution_count": null,
   "metadata": {},
   "outputs": [],
   "source": [
    "res_list = [r for r in res[\"items\"] if r[\"@id\"].find(\"2019\") != -1]\n",
    "download_info_id = res_list[0][\"dataset_download_information\"][\"items\"][0][\"@id\"]\n",
    "download_id = res_list[0][\"UID\"]\n",
    "dataset_url = res_list[0][\"@id\"]\n",
    "download_info_id, download_id, dataset_url"
   ]
  },
  {
   "cell_type": "code",
   "execution_count": null,
   "metadata": {},
   "outputs": [],
   "source": [
    "dataset_url = \"https://land.copernicus.eu/api/en/products/global-dynamic-land-cover/copernicus-global-land-service-land-cover-100m-collection-3-epoch-2019-globe\"\n",
    "headers = {\n",
    "    \"Authorization\": f\"Bearer {token['access_token']}\",\n",
    "    \"Accept\": \"application/json\",\n",
    "    \"Content-type\": \"application/json\",\n",
    "}\n",
    "\n",
    "json_data = {\n",
    "    \"Datasets\": [\n",
    "        {\n",
    "            \"DatasetID\": download_id,\n",
    "            \"DatasetDownloadInformationID\": download_info_id,\n",
    "            \"Layer\": \"Cover Fraction: Built-up \",\n",
    "            \"NUTS\": \"CN\",\n",
    "            \"OutputFormat\": \"Geotiff\",\n",
    "            \"OutputGCS\": \"EPSG:4326\",\n",
    "        }\n",
    "    ]\n",
    "}\n",
    "\n",
    "data = requests.post(dataset_url, headers=headers, json=json_data)\n",
    "data"
   ]
  },
  {
   "cell_type": "code",
   "execution_count": null,
   "metadata": {},
   "outputs": [],
   "source": [
    "data.json().keys()"
   ]
  },
  {
   "cell_type": "code",
   "execution_count": null,
   "metadata": {},
   "outputs": [],
   "source": [
    "status = requests.get(\n",
    "    \"https://land.copernicus.eu/api/@datarequest_search?status=In_progress\",\n",
    "    headers={\n",
    "        \"Accept\": \"application/json\",\n",
    "        \"Authorization\": f\"Bearer {token['access_token']}\",\n",
    "    },\n",
    ")\n",
    "status.json()"
   ]
  }
 ],
 "metadata": {
  "kernelspec": {
   "display_name": "pypsa-china",
   "language": "python",
   "name": "python3"
  },
  "language_info": {
   "codemirror_mode": {
    "name": "ipython",
    "version": 3
   },
   "file_extension": ".py",
   "mimetype": "text/x-python",
   "name": "python",
   "nbconvert_exporter": "python",
   "pygments_lexer": "ipython3",
   "version": "3.12.7"
  }
 },
 "nbformat": 4,
 "nbformat_minor": 2
}
