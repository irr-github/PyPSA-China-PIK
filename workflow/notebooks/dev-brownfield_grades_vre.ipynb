{
 "cells": [
  {
   "cell_type": "markdown",
   "id": "0",
   "metadata": {},
   "source": [
    "develop the add existing base years per grade"
   ]
  },
  {
   "cell_type": "code",
   "execution_count": null,
   "id": "1",
   "metadata": {},
   "outputs": [],
   "source": [
    "%load_ext autoreload\n",
    "%autoreload 2\n",
    "%precision %e"
   ]
  },
  {
   "cell_type": "code",
   "execution_count": null,
   "id": "2",
   "metadata": {},
   "outputs": [],
   "source": [
    "# running the jupyter notebook on the compute nodes doesnt build the path as expected, you have to manually do this\n",
    "import IPython, os\n",
    "\n",
    "working_directory = os.path.dirname(IPython.extract_module_locals()[1]['__vsc_ipynb_file__'])\n",
    "workflow_dir = os.path.dirname(working_directory)\n",
    "scripts_dir = os.path.join(workflow_dir, \"scripts\")\n",
    "root_dir = os.path.dirname(workflow_dir)\n",
    "\n",
    "os.chdir(scripts_dir)\n"
   ]
  },
  {
   "cell_type": "code",
   "execution_count": null,
   "id": "3",
   "metadata": {},
   "outputs": [],
   "source": [
    "import logging\n",
    "import pypsa\n",
    "import os.path\n",
    "from _helpers import mock_snakemake\n",
    "from _pypsa_helpers import shift_profile_to_planning_year\n",
    "\n",
    "import cartopy.crs as ccrs\n",
    "import matplotlib.pyplot as plt\n",
    "import pandas as pd\n",
    "import geopandas as gpd"
   ]
  },
  {
   "cell_type": "code",
   "execution_count": null,
   "id": "4",
   "metadata": {},
   "outputs": [],
   "source": [
    "target = os.path.join(root_dir, \"resources/derived_data/cutout_China-2020c/solar_regions_by_class_min_cf_delta0.02_n2.geojson\")\n",
    "spv = gpd.read_file(target)\n",
    "wind = gpd.read_file(os.path.join(root_dir, \"resources/derived_data/cutout_China-2020c/onwind_regions_by_class_min_cf_delta0.07_n3.geojson\"))\n"
   ]
  },
  {
   "cell_type": "code",
   "execution_count": null,
   "id": "5",
   "metadata": {},
   "outputs": [],
   "source": [
    "from mpl_toolkits.axes_grid1 import make_axes_locatable\n",
    "\n",
    "fig, ax = plt.subplots(1, 2,figsize=(12, 5))\n",
    "# Adjust colorbar to fit the subplot height\n",
    "\n",
    "divider = make_axes_locatable(ax[0])\n",
    "cax = divider.append_axes(\"right\", size=\"5%\", pad=-0.3)\n",
    "spv.plot(\"cf\", cmap=\"magma_r\", legend=True, edgecolor=None, linewidth=2, ax=ax[0], cax=cax)\n",
    "spv.dissolve(\"bus\").boundary.plot(edgecolor=\"white\", facecolor=\"none\", linewidth=0.7, ax=ax[0])\n",
    "ax[0].set_title(\"Solar PV Availability Factor\")\n",
    "\n",
    "divider2 = make_axes_locatable(ax[1])\n",
    "cax2 = divider2.append_axes(\"right\", size=\"5%\", pad=-0.3)\n",
    "\n",
    "wind[wind.cf>0.02].plot(\n",
    "    \"cf\",\n",
    "    cmap=\"magma_r\",\n",
    "    legend=True,\n",
    "    edgecolor=None,\n",
    "    linewidth=2,\n",
    "    ax=ax[1],\n",
    "    cax=cax2,\n",
    "    vmin=0.05,\n",
    "    missing_kwds={\"color\": \"white\"}\n",
    ")\n",
    "wind.dissolve(\"bus\").boundary.plot(edgecolor=\"black\", facecolor=\"none\", linewidth=0.7, ax=ax[1])\n",
    "ax[1].set_title(\"Wind Availability Factor\")\n",
    "fig.tight_layout()"
   ]
  },
  {
   "cell_type": "code",
   "execution_count": null,
   "id": "6",
   "metadata": {},
   "outputs": [],
   "source": [
    "if \"snakemake\" not in globals():\n",
    "    snakemake = mock_snakemake(\n",
    "        \"add_existing_baseyear\",\n",
    "        topology=\"current+FCG\",\n",
    "        snakefile_path=os.path.abspath(\"../\"),\n",
    "        co2_pathway=\"remind_ssp2NPI\",\n",
    "        planning_horizons=\"2025\",\n",
    "        heating_demand=\"positive\",\n",
    "    )"
   ]
  },
  {
   "cell_type": "code",
   "execution_count": null,
   "id": "7",
   "metadata": {},
   "outputs": [],
   "source": [
    "import numpy as np\n",
    "from add_electricity import load_costs"
   ]
  },
  {
   "cell_type": "code",
   "execution_count": null,
   "id": "8",
   "metadata": {},
   "outputs": [],
   "source": [
    "from add_existing_baseyear import read_existing_capacities, fix_existing_capacities, assign_year_bins\n",
    "from add_existing_baseyear import add_power_capacities_installed_before_baseyear, add_existing_vre_capacities"
   ]
  },
  {
   "cell_type": "code",
   "execution_count": null,
   "id": "9",
   "metadata": {},
   "outputs": [],
   "source": [
    "tech_costs = snakemake.input.tech_costs\n",
    "config = snakemake.config\n",
    "baseyear = snakemake.params[\"baseyear\"]\n",
    "cost_year = snakemake.wildcards[\"planning_horizons\"]\n",
    "\n",
    "n = pypsa.Network(snakemake.input.network)\n",
    "n_years = n.snapshot_weightings.generators.sum() / 8760\n",
    "\n",
    "data_paths = {k: v for k, v in snakemake.input.items()}\n",
    "costs = load_costs(tech_costs, config[\"costs\"], config[\"electricity\"], cost_year, n_years)\n"
   ]
  },
  {
   "cell_type": "code",
   "execution_count": null,
   "id": "10",
   "metadata": {},
   "outputs": [],
   "source": [
    "baseyear = snakemake.params[\"baseyear\"]\n",
    "# add_build_year_to_new_assets(n, baseyear)\n",
    "if snakemake.params[\"add_baseyear_to_assets\"]:\n",
    "    add_build_year_to_new_assets(n, baseyear)\n",
    "\n",
    "config = snakemake.config\n",
    "tech_costs = snakemake.input.tech_costs\n",
    "cost_year = snakemake.wildcards[\"planning_horizons\"]\n",
    "data_paths = {k: v for k, v in snakemake.input.items()}\n",
    "vre_techs = [\"solar\", \"onwind\", \"offwind\"]\n",
    "\n",
    "costs = load_costs(tech_costs, config[\"costs\"], config[\"electricity\"], cost_year, n_years)\n",
    "\n",
    "existing_capacities = read_existing_capacities(data_paths)\n",
    "year_bins = config[\"existing_capacities\"][\"grouping_years\"]\n",
    "# TODO add renewables\n",
    "existing_capacities = assign_year_bins(existing_capacities, year_bins)\n",
    "df = fix_existing_capacities(existing_capacities, costs, year_bins, baseyear)\n",
    "\n",
    "vre_caps = df.query(\"Tech in @vre_techs | Fueltype in @vre_techs\")\n",
    "# vre_caps.loc[:, \"Country\"] = coco.CountryConverter().convert([\"China\"], to=\"iso2\")\n",
    "vres = add_existing_vre_capacities(n, costs, vre_caps, config)\n",
    "df = pd.concat([df.query(\"Tech not in @vre_techs & Fueltype not in @vre_techs\"), vres], axis=0)\n"
   ]
  },
  {
   "cell_type": "code",
   "execution_count": null,
   "id": "11",
   "metadata": {},
   "outputs": [],
   "source": [
    "df.resource_class.fillna(\"none\", inplace=True)\n",
    "df.pivot_table(\n",
    "        index=[\"grouping_year\", \"Fueltype\", \"resource_class\"],\n",
    "        columns=\"bus\",\n",
    "        values=\"Capacity\",\n",
    "        aggfunc=\"sum\",\n",
    "    )\n",
    "stored = df.copy"
   ]
  },
  {
   "cell_type": "code",
   "execution_count": null,
   "id": "12",
   "metadata": {},
   "outputs": [],
   "source": [
    "stored.renamed)"
   ]
  },
  {
   "cell_type": "code",
   "execution_count": null,
   "id": "13",
   "metadata": {},
   "outputs": [],
   "source": [
    "capacity.index.values"
   ]
  },
  {
   "cell_type": "code",
   "execution_count": null,
   "id": "14",
   "metadata": {},
   "outputs": [],
   "source": [
    "carrier = {\n",
    "    \"coal\": \"coal power plant\",\n",
    "    \"CHP coal\": \"CHP coal\",\n",
    "    \"CHP gas\": \"CHP gas\",\n",
    "    \"OCGT\": \"OCGT gas\",\n",
    "    \"solar\": \"solar\",\n",
    "    \"solar thermal\": \"solar thermal\",\n",
    "    \"onwind\": \"onwind\",\n",
    "    \"offwind\": \"offwind\",\n",
    "    \"coal boiler\": \"coal boiler\",\n",
    "    \"ground heat pump\": \"heat pump\",\n",
    "    \"nuclear\": \"nuclear\",\n",
    "}\n",
    "\n",
    "# in case user forgot to do it\n",
    "df = fix_existing_capacities(\n",
    "    df, costs, config[\"existing_capacities\"][\"grouping_years\"], baseyear\n",
    ")\n",
    "df.resource_class.fillna(\"none\", inplace=True)\n",
    "df = df.pivot_table(\n",
    "    index=[\"grouping_year\", \"Fueltype\", \"resource_class\"],\n",
    "    columns=\"bus\",\n",
    "    values=\"Capacity\",\n",
    "    aggfunc=\"sum\",\n",
    ")\n",
    "# TODO do we really need to loop over the years?\n",
    "for grouping_year, generator, resouce_class in df.index:\n",
    "    print(generator, grouping_year)\n",
    "    # capacity is the capacity in MW at each node for this\n",
    "    capacity = df.loc[grouping_year, generator]\n",
    "    capacity = capacity[~capacity.isna()]\n",
    "    capacity = capacity[capacity > config[\"existing_capacities\"][\"threshold_capacity\"]].T\n",
    "    capacity.fillna(0, inplace=True)\n",
    "    if capacity.values.max() == 0:\n",
    "        continue\n",
    "    \n",
    "    vre_carriers = [\"solar\", \"onwind\", \"offwind\"]\n",
    "    if generator in vre_carriers:\n",
    "        mask = n.generators_t.p_max_pu.columns.map(n.generators.carrier) == generator\n",
    "        p_max_pu = n.generators_t.p_max_pu.loc[:, mask]\n",
    "        n.add(\n",
    "            \"Generator\",\n",
    "            capacity.index,\n",
    "            suffix=\" \" + generator + \"-\" + str(grouping_year),\n",
    "            bus=capacity.index.values,\n",
    "            carrier=carrier[generator],\n",
    "            p_nom=capacity,\n",
    "            p_nom_min=capacity,\n",
    "            p_nom_extendable=False,\n",
    "            marginal_cost=costs.at[generator, \"marginal_cost\"],\n",
    "            capital_cost=costs.at[generator, \"capital_cost\"],\n",
    "            efficiency=costs.at[generator, \"efficiency\"],\n",
    "            p_max_pu=p_max_pu.rename(columns=n.generators.bus),\n",
    "            build_year=grouping_year,\n",
    "            lifetime=costs.at[generator, \"lifetime\"],\n",
    "        )\n",
    "\n",
    "    if generator == \"coal\":\n",
    "        n.add(\n",
    "            \"Generator\",\n",
    "            capacity.index,\n",
    "            suffix=\" \" + generator + \"-\" + str(grouping_year),\n",
    "            bus=capacity.index.values,\n",
    "            carrier=carrier[generator],\n",
    "            p_nom=capacity,\n",
    "            p_nom_extendable=False,\n",
    "            marginal_cost=costs.at[generator, \"marginal_cost\"],\n",
    "            capital_cost=costs.at[generator, \"capital_cost\"],\n",
    "            efficiency=costs.at[generator, \"efficiency\"],\n",
    "            build_year=grouping_year,\n",
    "            lifetime=costs.at[generator, \"lifetime\"],\n",
    "        )\n",
    "\n",
    "    if generator == \"nuclear\":\n",
    "        n.add(\n",
    "            \"Generator\",\n",
    "            capacity.index,\n",
    "            suffix=\" \" + generator + \"-\" + str(grouping_year),\n",
    "            bus=capacity.index.values,\n",
    "            carrier=carrier[generator],\n",
    "            p_nom=capacity,\n",
    "            p_nom_min=capacity,\n",
    "            p_nom_extendable=False,\n",
    "            p_min_pu=0.7,\n",
    "            marginal_cost=costs.at[generator, \"marginal_cost\"],\n",
    "            capital_cost=costs.at[generator, \"capital_cost\"],\n",
    "            efficiency=costs.at[generator, \"efficiency\"],\n",
    "            build_year=grouping_year,\n",
    "            lifetime=costs.at[generator, \"lifetime\"],\n",
    "        )\n",
    "\n",
    "    if generator == \"solar thermal\" and config[\"heat_coupling\"]:\n",
    "        p_max_pu = n.generators_t.p_max_pu[capacity.index + \" central \" + generator]\n",
    "        p_max_pu.columns = capacity.index\n",
    "        n.add(\n",
    "            \"Generator\",\n",
    "            capacity.index,\n",
    "            suffix=\" central \" + generator + \"-\" + str(grouping_year),\n",
    "            bus=capacity.index.values + \" central heat\",\n",
    "            carrier=carrier[generator],\n",
    "            p_nom=capacity,\n",
    "            p_nom_min=capacity,\n",
    "            p_nom_extendable=False,\n",
    "            marginal_cost=costs.at[\"central \" + generator, \"marginal_cost\"],\n",
    "            capital_cost=costs.at[\"central \" + generator, \"capital_cost\"],\n",
    "            p_max_pu=p_max_pu,\n",
    "            build_year=grouping_year,\n",
    "            lifetime=costs.at[\"central \" + generator, \"lifetime\"],\n",
    "        )\n",
    "\n",
    "    if generator == \"CHP coal\" and config[\"heat_coupling\"]:\n",
    "        bus0 = capacity.index + \" coal\"\n",
    "        n.add(\n",
    "            \"Link\",\n",
    "            capacity.index,\n",
    "            suffix=\" \" + generator + \" generator\" + \"-\" + str(grouping_year),\n",
    "            bus0=bus0,\n",
    "            bus1=capacity.index,\n",
    "            carrier=carrier[generator],\n",
    "            marginal_cost=0.37 * costs.at[\"central coal CHP\", \"VOM\"],  # NB: VOM is per MWel\n",
    "            capital_cost=0.37\n",
    "            * costs.at[\"central coal CHP\", \"capital_cost\"],  # NB: fixed cost is per MWel,\n",
    "            p_nom=capacity / 0.37,\n",
    "            p_nom_min=capacity / 0.37,\n",
    "            p_nom_extendable=False,\n",
    "            efficiency=0.37,\n",
    "            p_nom_ratio=1.0,\n",
    "            c_b=0.75,\n",
    "            build_year=grouping_year,\n",
    "            lifetime=costs.at[\"central coal CHP\", \"lifetime\"],\n",
    "        )\n",
    "\n",
    "        n.add(\n",
    "            \"Link\",\n",
    "            capacity.index,\n",
    "            suffix=\" \" + generator + \" boiler\" + \"-\" + str(grouping_year),\n",
    "            bus0=bus0,\n",
    "            bus1=capacity.index + \" central heat\",\n",
    "            carrier=carrier[generator],\n",
    "            marginal_cost=0.37 * costs.at[\"central coal CHP\", \"VOM\"],  # NB: VOM is per MWel\n",
    "            p_nom=capacity / 0.37 * 0.15,\n",
    "            p_nom_min=capacity / 0.37 * 0.15,\n",
    "            p_nom_extendable=False,\n",
    "            efficiency=0.37 / 0.15,\n",
    "            build_year=grouping_year,\n",
    "            lifetime=costs.at[\"central coal CHP\", \"lifetime\"],\n",
    "        )\n",
    "\n",
    "    if generator == \"CHP gas\" and config[\"heat_coupling\"]:\n",
    "        bus0 = capacity.index + \" gas\"\n",
    "        n.add(\n",
    "            \"Link\",\n",
    "            capacity.index,\n",
    "            suffix=\" \" + generator + \" generator\" + \"-\" + str(grouping_year),\n",
    "            bus0=bus0,\n",
    "            bus1=capacity.index,\n",
    "            carrier=carrier[generator],\n",
    "            marginal_cost=costs.at[\"central gas CHP\", \"efficiency\"]\n",
    "            * costs.at[\"central gas CHP\", \"VOM\"],  # NB: VOM is per MWel\n",
    "            capital_cost=costs.at[\"central gas CHP\", \"efficiency\"]\n",
    "            * costs.at[\"central gas CHP\", \"capital_cost\"],  # NB: fixed cost is per MWel,\n",
    "            p_nom=capacity / costs.at[\"central gas CHP\", \"efficiency\"],\n",
    "            p_nom_min=capacity / costs.at[\"central gas CHP\", \"efficiency\"],\n",
    "            p_nom_extendable=False,\n",
    "            efficiency=costs.at[\"central gas CHP\", \"efficiency\"],\n",
    "            p_nom_ratio=1.0,\n",
    "            c_b=costs.at[\"central gas CHP\", \"c_b\"],\n",
    "            build_year=grouping_year,\n",
    "            lifetime=costs.at[\"central gas CHP\", \"lifetime\"],\n",
    "        )\n",
    "        n.add(\n",
    "            \"Link\",\n",
    "            capacity.index,\n",
    "            suffix=\" \" + generator + \" boiler\" + \"-\" + str(grouping_year),\n",
    "            bus0=bus0,\n",
    "            bus1=capacity.index + \" central heat\",\n",
    "            carrier=carrier[generator],\n",
    "            marginal_cost=costs.at[\"central gas CHP\", \"efficiency\"]\n",
    "            * costs.at[\"central gas CHP\", \"VOM\"],  # NB: VOM is per MWel\n",
    "            p_nom=capacity\n",
    "            / costs.at[\"central gas CHP\", \"efficiency\"]\n",
    "            * costs.at[\"central gas CHP\", \"c_v\"],\n",
    "            p_nom_min=capacity\n",
    "            / costs.at[\"central gas CHP\", \"efficiency\"]\n",
    "            * costs.at[\"central gas CHP\", \"c_v\"],\n",
    "            p_nom_extendable=False,\n",
    "            efficiency=costs.at[\"central gas CHP\", \"efficiency\"]\n",
    "            / costs.at[\"central gas CHP\", \"c_v\"],\n",
    "            build_year=grouping_year,\n",
    "            lifetime=costs.at[\"central gas CHP\", \"lifetime\"],\n",
    "        )\n",
    "\n",
    "    if generator == \"OCGT\":\n",
    "        bus0 = capacity.index + \" gas\"\n",
    "        n.add(\n",
    "            \"Link\",\n",
    "            capacity.index,\n",
    "            suffix=\" \" + generator + \"-\" + str(grouping_year),\n",
    "            bus0=bus0,\n",
    "            bus1=capacity.index,\n",
    "            carrier=carrier[generator],\n",
    "            marginal_cost=costs.at[generator, \"efficiency\"]\n",
    "            * costs.at[generator, \"VOM\"],  # NB: VOM is per MWel\n",
    "            capital_cost=costs.at[generator, \"efficiency\"]\n",
    "            * costs.at[generator, \"capital_cost\"],\n",
    "            # NB: fixed cost is per MWel\n",
    "            p_nom=capacity / costs.at[generator, \"efficiency\"],\n",
    "            p_nom_min=capacity / costs.at[generator, \"efficiency\"],\n",
    "            p_nom_extendable=False,\n",
    "            efficiency=costs.at[generator, \"efficiency\"],\n",
    "            build_year=grouping_year,\n",
    "            lifetime=costs.at[generator, \"lifetime\"],\n",
    "        )\n",
    "\n",
    "    if generator == \"coal boiler\" and config[\"heat_coupling\"]:\n",
    "        bus0 = capacity.index + \" coal\"\n",
    "        for cat in [\" central \"]:\n",
    "            n.add(\n",
    "                \"Link\",\n",
    "                capacity.index,\n",
    "                suffix=\"\" + cat + generator + \"-\" + str(grouping_year),\n",
    "                bus0=bus0,\n",
    "                bus1=capacity.index + cat + \"heat\",\n",
    "                carrier=carrier[generator],\n",
    "                marginal_cost=costs.at[cat.lstrip() + generator, \"efficiency\"]\n",
    "                * costs.at[cat.lstrip() + generator, \"VOM\"],\n",
    "                capital_cost=costs.at[cat.lstrip() + generator, \"efficiency\"]\n",
    "                * costs.at[cat.lstrip() + generator, \"capital_cost\"],\n",
    "                p_nom=capacity / costs.at[cat.lstrip() + generator, \"efficiency\"],\n",
    "                p_nom_min=capacity / costs.at[cat.lstrip() + generator, \"efficiency\"],\n",
    "                p_nom_extendable=False,\n",
    "                efficiency=costs.at[cat.lstrip() + generator, \"efficiency\"],\n",
    "                build_year=grouping_year,\n",
    "                lifetime=costs.at[cat.lstrip() + generator, \"lifetime\"],\n",
    "            )\n",
    "    # TODO fix centralise\n",
    "    if generator == \"ground heat pump\" and config[\"heat_coupling\"]:\n",
    "        date_range = pd.date_range(\n",
    "            \"2025-01-01 00:00\",\n",
    "            \"2025-12-31 23:00\",\n",
    "            freq=config[\"snapshots\"][\"freq\"],\n",
    "            tz=\"Asia/shanghai\",\n",
    "        )\n",
    "        date_range = date_range.map(lambda t: t.replace(year=2020))\n",
    "\n",
    "        with pd.HDFStore(snakemake.input.cop_name, mode=\"r\") as store:\n",
    "            gshp_cop = store[\"gshp_cop_profiles\"]\n",
    "            gshp_cop.index = gshp_cop.index.tz_localize(None)\n",
    "            gshp_cop = shift_profile_to_planning_year(\n",
    "                gshp_cop, snakemake.wildcards.planning_horizons\n",
    "            )\n",
    "            gshp_cop = gshp_cop.loc[n.snapshots]\n",
    "        n.add(\n",
    "            \"Link\",\n",
    "            capacity.index,\n",
    "            suffix=\" \" + generator + \"-\" + str(grouping_year),\n",
    "            bus0=capacity.index,\n",
    "            bus1=capacity.index + \" central heat\",\n",
    "            carrier=\"heat pump\",\n",
    "            efficiency=(\n",
    "                gshp_cop[capacity.index]\n",
    "                if config[\"time_dep_hp_cop\"]\n",
    "                else costs.at[\"decentral ground-sourced heat pump\", \"efficiency\"]\n",
    "            ),\n",
    "            capital_cost=costs.at[\"decentral ground-sourced heat pump\", \"efficiency\"]\n",
    "            * costs.at[\"decentral ground-sourced heat pump\", \"capital_cost\"],\n",
    "            marginal_cost=costs.at[\"decentral ground-sourced heat pump\", \"efficiency\"]\n",
    "            * costs.at[\"decentral ground-sourced heat pump\", \"marginal_cost\"],\n",
    "            p_nom=capacity / costs.at[\"decentral ground-sourced heat pump\", \"efficiency\"],\n",
    "            p_nom_min=capacity / costs.at[\"decentral ground-sourced heat pump\", \"efficiency\"],\n",
    "            p_nom_extendable=False,\n",
    "            build_year=grouping_year,\n",
    "            lifetime=costs.at[\"decentral ground-sourced heat pump\", \"lifetime\"],\n",
    "        )"
   ]
  },
  {
   "cell_type": "code",
   "execution_count": null,
   "id": "15",
   "metadata": {},
   "outputs": [],
   "source": [
    "\n",
    "        if generator == \"nuclear\":\n",
    "            n.add(\n",
    "                \"Generator\",\n",
    "                capacity.index,\n",
    "                suffix=\" \" + generator + \"-\" + str(grouping_year),\n",
    "                bus=capacity.index,\n",
    "                carrier=carrier[generator],\n",
    "                p_nom=capacity,\n",
    "                p_nom_min=capacity,\n",
    "                p_nom_extendable=False,\n",
    "                p_min_pu=0.7,\n",
    "                marginal_cost=costs.at[generator, \"marginal_cost\"],\n",
    "                capital_cost=costs.at[generator, \"capital_cost\"],\n",
    "                efficiency=costs.at[generator, \"efficiency\"],\n",
    "                build_year=grouping_year,\n",
    "                lifetime=costs.at[generator, \"lifetime\"],\n",
    "            )\n"
   ]
  },
  {
   "cell_type": "code",
   "execution_count": null,
   "id": "16",
   "metadata": {},
   "outputs": [],
   "source": [
    "n.generators"
   ]
  },
  {
   "cell_type": "code",
   "execution_count": null,
   "id": "17",
   "metadata": {},
   "outputs": [],
   "source": [
    "out_ = add_power_capacities_installed_before_baseyear(n, costs, config, df)\n",
    "out_\n"
   ]
  },
  {
   "cell_type": "code",
   "execution_count": null,
   "id": "18",
   "metadata": {},
   "outputs": [],
   "source": [
    "grouping_year"
   ]
  },
  {
   "cell_type": "code",
   "execution_count": null,
   "id": "19",
   "metadata": {},
   "outputs": [],
   "source": [
    "grouping_year"
   ]
  },
  {
   "cell_type": "code",
   "execution_count": null,
   "id": "20",
   "metadata": {},
   "outputs": [],
   "source": [
    "out = n.generators.groupby([\"carrier\",\"bus\"]).p_nom_min.sum().sort_values(ascending=False)"
   ]
  },
  {
   "cell_type": "code",
   "execution_count": null,
   "id": "21",
   "metadata": {},
   "outputs": [],
   "source": [
    "out.loc[(\"coal\", slice(None))]"
   ]
  },
  {
   "cell_type": "code",
   "execution_count": null,
   "id": "22",
   "metadata": {},
   "outputs": [],
   "source": [
    "\n",
    "for grouping_year, generator, resource_class in df.index:\n",
    "    # capacity is the capacity in MW at each node for this\n",
    "    capacity = df.loc[grouping_year, generator, resource_class]\n",
    "    capacity = capacity[~capacity.isna()]\n",
    "    capacity = capacity[capacity > 1]\n",
    "    suffix = \"-ac\" if generator == \"offwind\" else \"\"\n",
    "    name_suffix = f\" {generator}{suffix}-{grouping_year}\""
   ]
  },
  {
   "cell_type": "code",
   "execution_count": null,
   "id": "23",
   "metadata": {},
   "outputs": [],
   "source": [
    "import xarray as xr\n",
    "p = \"/home/ivanra/documents/PyPSA-China-PIK/resources/derived_data/cutout_China-2020c/profile_onwind-min_cf_delta0.05_n3.nc\"\n",
    "with xr.open_dataset(p) as ds:\n",
    "    if ds.indexes[\"bus\"].empty:\n",
    "        pass\n",
    "    if \"year\" in ds.indexes:\n",
    "        ds = ds.sel(year=ds.year.min(), drop=True)"
   ]
  },
  {
   "cell_type": "code",
   "execution_count": null,
   "id": "24",
   "metadata": {},
   "outputs": [],
   "source": [
    "ds.p_nom_max"
   ]
  },
  {
   "cell_type": "code",
   "execution_count": null,
   "id": "25",
   "metadata": {},
   "outputs": [],
   "source": [
    "import powerplantmatching as pm\n",
    "renw = pm.data.IRENASTAT()\n",
    "renw.query(\"Country == 'China' & Technology == 'Onshore' & Year == @renw.Year.max()\")\n",
    "renw.head(1)"
   ]
  },
  {
   "cell_type": "code",
   "execution_count": null,
   "id": "26",
   "metadata": {},
   "outputs": [],
   "source": [
    "import country_converter as coco"
   ]
  },
  {
   "cell_type": "code",
   "execution_count": null,
   "id": "27",
   "metadata": {},
   "outputs": [],
   "source": [
    "vre_techs = ['onwind',\n",
    " 'offwind',\n",
    " 'offwind-ac',\n",
    " 'offwind-dc',\n",
    " 'solar',]\n",
    "vre_caps = existing_capacities.query(\"Tech in @vre_techs | Fueltype in @vre_techs\")\n",
    "vre_caps.loc[:, \"Country\"] = coco.CountryConverter().convert([\"China\"], to=\"iso2\")\n"
   ]
  },
  {
   "cell_type": "code",
   "execution_count": null,
   "id": "28",
   "metadata": {},
   "outputs": [],
   "source": [
    "irena = pm.data.IRENASTAT().powerplant.convert_country_to_alpha2()\n",
    "irena"
   ]
  },
  {
   "cell_type": "code",
   "execution_count": null,
   "id": "29",
   "metadata": {},
   "outputs": [],
   "source": [
    "from functions import cartesian\n",
    "import re"
   ]
  },
  {
   "cell_type": "code",
   "execution_count": null,
   "id": "30",
   "metadata": {},
   "outputs": [],
   "source": [
    "vre_caps.groupby(\"Tech\").Capacity.sum().sort_values(ascending=False)"
   ]
  },
  {
   "cell_type": "code",
   "execution_count": null,
   "id": "31",
   "metadata": {},
   "outputs": [],
   "source": [
    "grouped = vre_caps.groupby([\"Country\", \"cluster_bus\", \"Tech\", \"DateIn\"]).Capacity.sum()\n",
    "vre_caps.Country.unique()"
   ]
  },
  {
   "cell_type": "code",
   "execution_count": null,
   "id": "32",
   "metadata": {},
   "outputs": [],
   "source": [
    "grouped.unstack().reset_index().query(\"Country == 'CN'\").drop(columns=[\"Country\"])"
   ]
  },
  {
   "cell_type": "code",
   "execution_count": null,
   "id": "33",
   "metadata": {},
   "outputs": [],
   "source": [
    "grouped_vre = vre_caps.groupby([\"Tech\", \"cluster_bus\", \"DateIn\"]).Capacity.sum()\n",
    "vre_df = grouped_vre.unstack().reset_index()\n",
    "\n",
    "# Create a DataFrame with all combinations of cluster_bus and Tech\n",
    "all_combinations = pd.MultiIndex.from_product(\n",
    "    [vre_df['cluster_bus'].unique(), vre_df['Tech'].unique()],\n",
    "    names=['cluster_bus', 'Tech']\n",
    ").to_frame(index=False)\n",
    "\n",
    "# Merge with the existing vre_df to fill missing combinations\n",
    "vre_df = all_combinations.merge(vre_df, on=['cluster_bus', 'Tech'], how='left')\n",
    "\n",
    "# Fill missing values with NaN or appropriate defaults\n",
    "vre_df.fillna(0, inplace=True)\n",
    "\n",
    "vre_df"
   ]
  },
  {
   "cell_type": "code",
   "execution_count": null,
   "id": "34",
   "metadata": {},
   "outputs": [],
   "source": [
    "df_agg.query(' bus in [\"Fujian\", \"Jiangsu \"] & Fueltype==\"offwind\"').Capacity.sum()"
   ]
  },
  {
   "cell_type": "code",
   "execution_count": null,
   "id": "35",
   "metadata": {},
   "outputs": [],
   "source": [
    "existing_capacities.query(' cluster_bus in [\"Fujian\", \"Jiangsu \"] & Fueltype==\"offwind\" & DateIn==2020').Capacity.sum()"
   ]
  },
  {
   "cell_type": "code",
   "execution_count": null,
   "id": "36",
   "metadata": {},
   "outputs": [],
   "source": [
    "tech_map = {\"solar\": \"PV\", \"onwind\": \"Onshore\", \"offwind-ac\": \"Offshore\", \"offwind\": \"Offshore\"}\n",
    "tech_map = {k:tech_map[k] for k in tech_map if k in config[\"Techs\"][\"vre_techs\"]}\n",
    "df_vres= pd.DataFrame()"
   ]
  },
  {
   "cell_type": "code",
   "execution_count": null,
   "id": "37",
   "metadata": {},
   "outputs": [],
   "source": [
    "for country, group in carrier_gens.groupby(\n",
    "    carrier_gens.bus.map(n.buses.country)):\n",
    "    break"
   ]
  },
  {
   "cell_type": "code",
   "execution_count": null,
   "id": "38",
   "metadata": {},
   "outputs": [],
   "source": [
    "is_complete = set(carrier_gens.bus.values).difference(set(nodes))\n",
    "is_complete"
   ]
  },
  {
   "cell_type": "code",
   "execution_count": null,
   "id": "39",
   "metadata": {},
   "outputs": [],
   "source": [
    "existing_capacities"
   ]
  },
  {
   "cell_type": "code",
   "execution_count": null,
   "id": "40",
   "metadata": {},
   "outputs": [],
   "source": [
    "sorted = df_agg.groupby([\"Fueltype\", \"bus\"]).Capacity.sum()\n",
    "sorted"
   ]
  },
  {
   "cell_type": "code",
   "execution_count": null,
   "id": "41",
   "metadata": {},
   "outputs": [],
   "source": [
    "existing_capacities.query(\"Fueltype in ['solar', 'offwind', 'onwind']\").rename(columns={\"cluster_bus\": \"bus\"}).groupby([\"Fueltype\", \"bus\"]).Capacity.sum()"
   ]
  },
  {
   "cell_type": "code",
   "execution_count": null,
   "id": "42",
   "metadata": {},
   "outputs": [],
   "source": [
    "df_agg.groupby(\"Fueltype\").Capacity.sum().sort_values(ascending=False)"
   ]
  },
  {
   "cell_type": "code",
   "execution_count": null,
   "id": "43",
   "metadata": {},
   "outputs": [],
   "source": [
    "df_ = existing_capacities.groupby([\"Fueltype\", \"DateIn\"]).Capacity.sum().sort_values(ascending=False)\n",
    "df_.loc[(slice(None), 2020)]"
   ]
  },
  {
   "cell_type": "code",
   "execution_count": null,
   "id": "44",
   "metadata": {},
   "outputs": [],
   "source": [
    "df.query(\"Country == 'China'\").T"
   ]
  },
  {
   "cell_type": "code",
   "execution_count": null,
   "id": "45",
   "metadata": {},
   "outputs": [],
   "source": [
    "gen_i = n.generators.query(\"carrier == @carrier\").index\n",
    "carrier_gens = n.generators.loc[gen_i]"
   ]
  },
  {
   "cell_type": "code",
   "execution_count": null,
   "id": "46",
   "metadata": {},
   "outputs": [],
   "source": [
    "carrier_gens"
   ]
  },
  {
   "cell_type": "code",
   "execution_count": null,
   "id": "47",
   "metadata": {},
   "outputs": [],
   "source": [
    "\n",
    "existing_capacities"
   ]
  },
  {
   "cell_type": "code",
   "execution_count": null,
   "id": "48",
   "metadata": {},
   "outputs": [],
   "source": [
    "df_agg.Tech.map(costs.lifetime)"
   ]
  },
  {
   "cell_type": "code",
   "execution_count": null,
   "id": "49",
   "metadata": {},
   "outputs": [],
   "source": [
    "import numpy as np\n",
    "\n",
    "availability = np.array([1000, 2000, 500])\n",
    "to_distribute = 1200\n",
    "\n",
    "# Cumulative sum tells us how much total would be used up to each point\n",
    "cumsum = np.cumsum(availability)\n",
    "# Mask for where the cumulative sum is still below the total to distribute\n",
    "used_up = cumsum < to_distribute\n",
    "# First point where we cross the distribution limit\n",
    "cutoff_index = np.argmax(cumsum >= to_distribute)\n",
    "\n",
    "# Start with zero allocation\n",
    "allocation = np.zeros_like(availability)\n",
    "\n",
    "# Fully allocate where availability is used up\n",
    "allocation[used_up] = availability[used_up]\n",
    "# Allocate the remainder at the cutoff index\n",
    "if to_distribute > cumsum[cutoff_index - 1] if cutoff_index > 0 else 0:\n",
    "    previous_cumsum = cumsum[cutoff_index - 1] if cutoff_index > 0 else 0\n",
    "    allocation[cutoff_index] = to_distribute - previous_cumsum\n",
    "\n",
    "print(allocation)\n"
   ]
  },
  {
   "cell_type": "code",
   "execution_count": null,
   "id": "50",
   "metadata": {},
   "outputs": [],
   "source": []
  },
  {
   "cell_type": "code",
   "execution_count": null,
   "id": "51",
   "metadata": {},
   "outputs": [],
   "source": [
    "availability = np.array([1000, 2000, 500])\n",
    "to_distribute = np.array([1200, 1900])\n",
    "n_years = len(to_distribute)\n",
    "n_sources = len(availability)\n",
    "\n",
    "# To store allocation per year per source (shape: sources x years)\n",
    "allocation = np.zeros((n_sources, n_years), dtype=int)\n",
    "remaining = availability.copy()\n",
    "\n",
    "for j in range(n_years):\n",
    "    needed = to_distribute[j]\n",
    "    cumsum = np.cumsum(remaining)\n",
    "    used_up = cumsum < needed\n",
    "    cutoff = np.argmax(cumsum >= needed)\n",
    "\n",
    "    allocation[used_up, j] = remaining[used_up]\n",
    "\n",
    "    if needed > (cumsum[cutoff - 1] if cutoff > 0 else 0):\n",
    "        allocation[cutoff, j] = needed - (cumsum[cutoff - 1] if cutoff > 0 else 0)\n",
    "\n",
    "    # Subtract what was used from availability\n",
    "    remaining -= allocation[:, j]\n",
    "\n",
    "allocation"
   ]
  },
  {
   "cell_type": "code",
   "execution_count": null,
   "id": "52",
   "metadata": {},
   "outputs": [],
   "source": []
  },
  {
   "cell_type": "code",
   "execution_count": null,
   "id": "53",
   "metadata": {},
   "outputs": [],
   "source": [
    "if \"DateOut\" not in existing_capacities.columns:\n",
    "    existing_capacities[\"DateOut\"] = np.nan\n",
    "lifetimes = existing_capacities.Fueltype.map(costs.lifetime).fillna(df_agg.Tech.map(costs.lifetime))\n",
    "existing_capacities.loc[:,\"DateOut\"] = existing_capacities.DateOut.fillna(lifetimes)"
   ]
  },
  {
   "cell_type": "code",
   "execution_count": null,
   "id": "54",
   "metadata": {},
   "outputs": [],
   "source": [
    "existing_capacities[existing_capacities.DateOut.isna()]"
   ]
  },
  {
   "cell_type": "code",
   "execution_count": null,
   "id": "55",
   "metadata": {},
   "outputs": [],
   "source": [
    "df_agg = existing_capacities.copy()\n",
    "lifetimes = df_agg.Fueltype.map(costs.lifetime).fillna(df_agg.Tech.map(costs.lifetime)).dropna()\n",
    "\n",
    "df_agg.loc[:, \"DateOut\"] = df_agg[\"DateIn\"].astype(int) + lifetimes\n",
    "df_agg"
   ]
  },
  {
   "cell_type": "code",
   "execution_count": null,
   "id": "56",
   "metadata": {},
   "outputs": [],
   "source": []
  },
  {
   "cell_type": "code",
   "execution_count": null,
   "id": "57",
   "metadata": {},
   "outputs": [],
   "source": [
    "df_agg = existing_capacities.copy()\n",
    "# Fill missing DateOut\n",
    "dateout = df_agg.loc[biomass_i, \"DateIn\"] + lifetime_values[\"lifetime\"]\n",
    "df_agg.loc[biomass_i, \"DateOut\"] = df_agg.loc[biomass_i, \"DateOut\"].fillna(dateout)\n",
    "\n",
    "# include renewables in df_agg\n",
    "add_existing_renewables(\n",
    "    df_agg=df_agg,\n",
    "    costs=costs,\n",
    "    n=n,\n",
    "    countries=countries,\n",
    ")\n",
    "# drop assets which are already phased out / decommissioned\n",
    "phased_out = df_agg[df_agg[\"DateOut\"] < baseyear].index\n",
    "df_agg.drop(phased_out, inplace=True)\n",
    "\n",
    "newer_assets = (df_agg.DateIn > max(grouping_years)).sum()\n",
    "if newer_assets:\n",
    "    logger.warning(\n",
    "        f\"There are {newer_assets} assets with build year \"\n",
    "        f\"after last power grouping year {max(grouping_years)}. \"\n",
    "        \"These assets are dropped and not considered.\"\n",
    "        \"Consider to redefine the grouping years to keep them.\"\n",
    "    )\n",
    "    to_drop = df_agg[df_agg.DateIn > max(grouping_years)].index\n",
    "    df_agg.drop(to_drop, inplace=True)\n",
    "\n",
    "df_agg[\"grouping_year\"] = np.take(\n",
    "    grouping_years, np.digitize(df_agg.DateIn, grouping_years, right=True)\n",
    ")"
   ]
  },
  {
   "cell_type": "code",
   "execution_count": null,
   "id": "58",
   "metadata": {},
   "outputs": [],
   "source": [
    "ppl = pm.powerplants(url_fetch=True)"
   ]
  },
  {
   "cell_type": "code",
   "execution_count": null,
   "id": "59",
   "metadata": {},
   "outputs": [],
   "source": []
  },
  {
   "cell_type": "code",
   "execution_count": null,
   "id": "60",
   "metadata": {},
   "outputs": [],
   "source": [
    "from functions import cartesian"
   ]
  },
  {
   "cell_type": "code",
   "execution_count": null,
   "id": "61",
   "metadata": {},
   "outputs": [],
   "source": [
    "for c, grp in carrier_gens.groupby(carrier_gens.bus.map(n.buses.country)):\n",
    "    print(c)"
   ]
  },
  {
   "cell_type": "code",
   "execution_count": null,
   "id": "62",
   "metadata": {},
   "outputs": [],
   "source": [
    "carrier_gens = n.generators.loc[gen_i]\n",
    "res_capacities = []\n",
    "for country, group in carrier_gens.groupby(\n",
    "    carrier_gens.bus.map(n.buses.country)\n",
    "):\n",
    "    fraction = group.p_nom_max / group.p_nom_max.sum()\n",
    "    res_capacities.append(cartesian(irena, fraction))\n",
    "res_capacities = pd.concat(res_capacities, axis=1).T"
   ]
  },
  {
   "cell_type": "code",
   "execution_count": null,
   "id": "63",
   "metadata": {},
   "outputs": [],
   "source": [
    "import re\n",
    "for year in res_capacities.columns:\n",
    "    for gen in res_capacities.index:\n",
    "        bus_bin = re.sub(f\" {carrier}.*\", \"\", gen)\n",
    "        bus, bin_id = bus_bin.rsplit(\" \", maxsplit=1)\n",
    "        name = f\"{bus_bin} {carrier}-{year}\"\n",
    "        capacity = res_capacities.loc[gen, year]\n",
    "        if capacity > 0.0:\n",
    "            cost_key = carrier.split(\"-\", maxsplit=1)[0]\n",
    "            df_agg.at[name, \"Fueltype\"] = carrier\n",
    "            df_agg.at[name, \"Capacity\"] = capacity\n",
    "            df_agg.at[name, \"DateIn\"] = year\n",
    "            df_agg.at[name, \"lifetime\"] = costs.at[cost_key, \"lifetime\"]\n",
    "            df_agg.at[name, \"DateOut\"] = (\n",
    "                year + costs.at[cost_key, \"lifetime\"] - 1\n",
    "            )\n",
    "            df_agg.at[name, \"bus\"] = bus\n",
    "            df_agg.at[name, \"resource_class\"] = bin_id\n"
   ]
  },
  {
   "cell_type": "code",
   "execution_count": null,
   "id": "64",
   "metadata": {},
   "outputs": [],
   "source": [
    "df_agg"
   ]
  }
 ],
 "metadata": {
  "kernelspec": {
   "display_name": "Python 3",
   "language": "python",
   "name": "python3"
  },
  "language_info": {
   "codemirror_mode": {
    "name": "ipython",
    "version": 3
   },
   "file_extension": ".py",
   "mimetype": "text/x-python",
   "name": "python",
   "nbconvert_exporter": "python",
   "pygments_lexer": "ipython3",
   "version": "3.12.7"
  }
 },
 "nbformat": 4,
 "nbformat_minor": 5
}
