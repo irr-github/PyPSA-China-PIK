{
 "cells": [
  {
   "cell_type": "markdown",
   "metadata": {},
   "source": [
    "## get the china provinces shapely form"
   ]
  },
  {
   "cell_type": "code",
   "execution_count": null,
   "metadata": {},
   "outputs": [],
   "source": [
    "# running the jupyter notebook on the compute nodes doesnt build the path as expected, you have to manually do this\n",
    "import os\n",
    "\n",
    "import IPython\n",
    "\n",
    "working_directory = os.path.dirname(\n",
    "    IPython.extract_module_locals()[1][\"__vsc_ipynb_file__\"]\n",
    ")\n",
    "os.chdir(os.path.dirname(os.path.join(working_directory, \"scripts\")))"
   ]
  },
  {
   "cell_type": "code",
   "execution_count": null,
   "metadata": {},
   "outputs": [],
   "source": [
    "import os.path\n",
    "import sys\n",
    "\n",
    "import cartopy.io.shapereader as shpreader\n",
    "import geopandas as gpd\n",
    "import matplotlib.pyplot as plt\n",
    "\n",
    "scripts_path = \"../scripts/\"\n",
    "sys.path.append(os.path.abspath(scripts_path))\n",
    "\n",
    "NATURAL_EARTH_RESOLUTION = \"10m\"  # 1:10m scale\n",
    "NATURAL_EARTH_DATA_SET = \"admin_1_states_provinces\"\n",
    "CRS = 4326  # WGS84"
   ]
  },
  {
   "cell_type": "code",
   "execution_count": null,
   "metadata": {},
   "outputs": [],
   "source": [
    "gdf = gpd.read_file(\n",
    "    \"/home/ivanra/documents/PyPSA-China-PIK/resources/data/regions/regions_offshore_province.geojson\"\n",
    ")\n",
    "with open(\n",
    "    \"/home/ivanra/documents/PyPSA-China-PIK/resources/data/regions/test.geojson\", \"w\"\n",
    ") as f:\n",
    "    f.write(gdf.to_json(drop_id=True))\n",
    "gdf.crs"
   ]
  },
  {
   "cell_type": "code",
   "execution_count": null,
   "metadata": {},
   "outputs": [],
   "source": [
    "gdf2 = gpd.read_file(\n",
    "    \"/home/ivanra/documents/PyPSA-China-PIK/resources/data/regions/test.geojson\"\n",
    ")\n",
    "gdf2.crs"
   ]
  },
  {
   "cell_type": "code",
   "execution_count": null,
   "metadata": {},
   "outputs": [],
   "source": [
    "NATURAL_EARTH_DATA_SET = \"ad\""
   ]
  },
  {
   "cell_type": "code",
   "execution_count": null,
   "metadata": {},
   "outputs": [],
   "source": []
  },
  {
   "cell_type": "code",
   "execution_count": null,
   "metadata": {},
   "outputs": [],
   "source": [
    "shpfilename = shpreader.natural_earth(\n",
    "    resolution=NATURAL_EARTH_RESOLUTION, category=\"cultural\", name=\"admin_0_countries\"\n",
    ")\n",
    "reader = shpreader.Reader(shpfilename)\n",
    "print(\"downloaded successfully\")\n",
    "countries = list(reader.records())"
   ]
  },
  {
   "cell_type": "code",
   "execution_count": null,
   "metadata": {},
   "outputs": [],
   "source": [
    "[c for c in countries if c.attributes[\"SOVEREIGNT\"] == \"China\"]"
   ]
  },
  {
   "cell_type": "code",
   "execution_count": null,
   "metadata": {},
   "outputs": [],
   "source": [
    "def fetch_natural_earth_shape(\n",
    "    dataset_name: str, filter_key: str, filter_value=\"China\", region_key=None\n",
    ") -> gpd.GeoDataFrame:\n",
    "    \"\"\"Fetch region or country shape from natural earth dataset and filter\n",
    "\n",
    "    Args:\n",
    "        dataset_name (str): the name of the natural earth dataset to fetch\n",
    "        filter_key (str): key to filter the records by\n",
    "        filter_value (str|list, optional): filter pass value. Defaults to \"China\".\n",
    "\n",
    "    Example:\n",
    "        china country: build_natural_earth_shape(\"admin_0_countries\", \"ADMIN\", \"China\")\n",
    "        china provinces: build_natural_earth_shape(\"admin_1_states_provinces\", \"iso_a2\", \"CN\", region_key = \"name_en\")\n",
    "\n",
    "    Returns:\n",
    "        gpd.GeoDataFrame: the filtered records\n",
    "    \"\"\"\n",
    "    shpfilename = shpreader.natural_earth(\n",
    "        resolution=NATURAL_EARTH_RESOLUTION, category=\"cultural\", name=dataset_name\n",
    "    )\n",
    "    reader = shpreader.Reader(shpfilename)\n",
    "    records = list(reader.records())\n",
    "    if not region_key:\n",
    "        region_key = filter_key\n",
    "    if isinstance(filter_value, list):\n",
    "        gdf = gpd.GeoDataFrame(\n",
    "            [\n",
    "                {\"region\": c.attributes[region_key], \"geometry\": c.geometry}\n",
    "                for c in records\n",
    "                if c.attributes[filter_key] in filter_value\n",
    "            ]\n",
    "        )\n",
    "    else:\n",
    "        gdf = gpd.GeoDataFrame(\n",
    "            [\n",
    "                {\"region\": c.attributes[region_key], \"geometry\": c.geometry}\n",
    "                for c in records\n",
    "                if c.attributes[filter_key] == filter_value\n",
    "            ]\n",
    "        )\n",
    "    gdf.set_crs(epsg=CRS, inplace=True)\n",
    "    return gdf"
   ]
  },
  {
   "cell_type": "code",
   "execution_count": null,
   "metadata": {},
   "outputs": [],
   "source": [
    "fig, ax = plt.subplots()\n",
    "china_shape = fetch_natural_earth_shape(\"admin_0_countries\", \"ADMIN\", \"China\")\n",
    "china_shape.plot(ax=ax)\n",
    "gpd.read_file(\n",
    "    \"/home/ivanra/documents/PyPSA-China-PIK/resources/data/regions/regions_offshore_province.geojson\"\n",
    ").plot(ax=ax, color=\"red\", alpha=0.5)\n",
    "gpd.read_file(\n",
    "    \"/home/ivanra/documents/PyPSA-China-PIK/resources/data/regions/regions_offshore.geojson\"\n",
    ").plot(ax=ax, color=\"green\", alpha=0.5)"
   ]
  },
  {
   "cell_type": "code",
   "execution_count": null,
   "metadata": {},
   "outputs": [],
   "source": [
    "marim = gpd.read_file(\n",
    "    \"/home/ivanra/documents/PyPSA-China-PIK/resources/data/regions/regions_offshore_province.geojson\"\n",
    ")\n",
    "marim.plot(lw=3)"
   ]
  },
  {
   "cell_type": "code",
   "execution_count": null,
   "metadata": {},
   "outputs": [],
   "source": [
    "province_shapes = fetch_natural_earth_shape(\n",
    "    \"admin_1_states_provinces\", \"iso_a2\", \"CN\", region_key=\"name_en\"\n",
    ")\n",
    "fig, ax = plt.subplots(figsize=(10, 10))\n",
    "province_shapes.plot(ax=ax)\n",
    "\n",
    "center_point = lambda poly: (poly.centroid.xy[0][0], poly.centroid.xy[1][0])\n",
    "for idx, row in province_shapes.iterrows():\n",
    "    plt.annotate(\n",
    "        text=row[\"region\"],\n",
    "        xy=center_point(row[\"geometry\"]),\n",
    "        horizontalalignment=\"center\",\n",
    "    )"
   ]
  },
  {
   "cell_type": "code",
   "execution_count": null,
   "metadata": {},
   "outputs": [],
   "source": [
    "import requests\n",
    "\n",
    "\n",
    "def fetch_maritime_eez(zone_name: str) -> gpd.GeoDataFrame:\n",
    "    \"\"\"Fetch maritime data for a country from Maritime Gazette API#\n",
    "    (Royal marine institute of Flanders data base)\n",
    "\n",
    "    Args:\n",
    "        zone_name (str): the country's zone name, e.g \"Chinese\" for china\n",
    "\n",
    "    Raises:\n",
    "        requests.HTTPError: if the request fails\n",
    "    Returns:\n",
    "        dict: the maritime data\n",
    "    \"\"\"\n",
    "\n",
    "    def find_record_id(zone_name: str) -> int:\n",
    "        # get Maritime Gazette record ID for the country\n",
    "        # the eez ID is 70: see https://www.marineregions.org/gazetteer.php?p=webservices&type=rest#/\n",
    "        url = f\"https://www.marineregions.org/rest/getGazetteerRecordsByName.json/{zone_name}/?like=true&fuzzy=false&typeID=70&offset=0&count=100\"\n",
    "        response = requests.get(url)\n",
    "        if response.status_code != 200:\n",
    "            raise requests.HTTPError(\n",
    "                f\"Failed to retrieve Maritime Gazette ID. Status code: {response.status_code}\"\n",
    "            )\n",
    "        record_data = response.json()\n",
    "        print(record_data)\n",
    "        return [\n",
    "            data\n",
    "            for data in record_data\n",
    "            if (data[\"status\"] == \"standard\")\n",
    "            and (data[\"preferredGazetteerName\"].lower().find(zone_name.lower()) != -1)\n",
    "        ][0][\"MRGID\"]\n",
    "\n",
    "    mgrid = find_record_id(zone_name)\n",
    "\n",
    "    #  URL of the WFS service\n",
    "    url = \"https://geo.vliz.be/geoserver/wfs\"\n",
    "    # WFS request parameters + record ID filter\n",
    "    params = dict(\n",
    "        service=\"WFS\",\n",
    "        version=\"1.1.0\",\n",
    "        request=\"GetFeature\",\n",
    "        typeName=\"MarineRegions:eez\",\n",
    "        outputFormat=\"json\",\n",
    "        filter=f\"<Filter><PropertyIsEqualTo><PropertyName>mrgid_eez</PropertyName><Literal>{mgrid}</Literal></PropertyIsEqualTo></Filter>\",\n",
    "    )\n",
    "    print(\n",
    "        f\"<Filter><PropertyIsEqualTo><PropertyName>mrgid_eez</PropertyName><Literal>{mgrid}</Literal></PropertyIsEqualTo></Filter>\"\n",
    "    )\n",
    "\n",
    "    # Fetch data from WFS using requests\n",
    "    response_eez = requests.get(url, params=params)\n",
    "\n",
    "    # Check for successful request\n",
    "    if response_eez.status_code == 200:\n",
    "        data = response_eez.json()\n",
    "    else:\n",
    "        print(f\"Error: {response_eez.status_code}\")\n",
    "    if data[\"totalFeatures\"] != 1:\n",
    "        raise ValueError(f\"Expected 1 feature, got {data['totalFeatures']}\\n: {data}\")\n",
    "    return gpd.GeoDataFrame.from_features(data[\"features\"])\n",
    "\n",
    "\n",
    "eez = fetch_maritime_eez(\"chinese\")\n",
    "eez.set_crs(epsg=4326, inplace=True)\n",
    "eez.plot()"
   ]
  },
  {
   "cell_type": "code",
   "execution_count": null,
   "metadata": {},
   "outputs": [],
   "source": [
    "prov_centroids = province_shapes.copy()\n",
    "prov_centroids.geometry = prov_centroids.centroid"
   ]
  },
  {
   "cell_type": "code",
   "execution_count": null,
   "metadata": {},
   "outputs": [],
   "source": [
    "voronoi_cells = gpd.GeoDataFrame(\n",
    "    geometry=province_shapes.centroid.voronoi_polygons(), crs=province_shapes.crs\n",
    ")\n",
    "province_shapes = province_shapes.rename(columns={\"region\": \"province\"})\n",
    "prov_centroids = province_shapes.copy()\n",
    "prov_centroids.geometry = prov_centroids.centroid\n",
    "voronoi_cells = voronoi_cells.sjoin(\n",
    "    prov_centroids, predicate=\"contains\"\n",
    ")  # .set_index(\"province\")\n",
    "# {'intersects', None, 'contains_properly', 'within', 'dwithin', 'touches', 'contains', 'overlaps', 'crosses', 'covered_by', 'covers'}\n",
    "# check the below with ez.overlay(voronoi_cells, how=\"intersection\").boundary.plot()\n",
    "voronoi_cells.shape"
   ]
  },
  {
   "cell_type": "code",
   "execution_count": null,
   "metadata": {},
   "outputs": [],
   "source": [
    "if \"index_right\" in voronoi_cells.columns:\n",
    "    voronoi_cells.drop(columns=[\"index_right\"], inplace=True)"
   ]
  },
  {
   "cell_type": "code",
   "execution_count": null,
   "metadata": {},
   "outputs": [],
   "source": [
    "voronoi_cells.overlay(eez, how=\"intersection\")[[\"province\", \"geometry\"]].set_index(\n",
    "    \"province\"\n",
    ").plot()"
   ]
  },
  {
   "cell_type": "code",
   "execution_count": null,
   "metadata": {},
   "outputs": [],
   "source": []
  },
  {
   "cell_type": "code",
   "execution_count": null,
   "metadata": {},
   "outputs": [],
   "source": [
    "voronoi_cells.shape"
   ]
  },
  {
   "cell_type": "code",
   "execution_count": null,
   "metadata": {},
   "outputs": [],
   "source": [
    "gpd.read_file(\n",
    "    \"/home/ivanra/documents/PyPSA-China-PIK/resources/derived_data/regions/provinves_offshore.geojson\"\n",
    ")"
   ]
  },
  {
   "cell_type": "code",
   "execution_count": null,
   "metadata": {},
   "outputs": [],
   "source": [
    "gpd.GeoDataFrame.from_features(data[\"features\"]).plot()"
   ]
  },
  {
   "cell_type": "code",
   "execution_count": null,
   "metadata": {},
   "outputs": [],
   "source": [
    "gpd_eez = gpd.GeoDataFrame([{\"geometry\": wkt_loads(wkt_s)}])\n",
    "fig, ax = plt.subplots()\n",
    "gpd_eez.set_crs(CRS, inplace=True)\n",
    "gpd_eez.plot(ax=ax)"
   ]
  },
  {
   "cell_type": "code",
   "execution_count": null,
   "metadata": {},
   "outputs": [],
   "source": [
    "gpd_eez.convex_hull.difference(china_shape).plot()"
   ]
  },
  {
   "cell_type": "code",
   "execution_count": null,
   "metadata": {},
   "outputs": [],
   "source": [
    "geom.split(\"MULTIPOLYGON\")[-1]"
   ]
  },
  {
   "cell_type": "code",
   "execution_count": null,
   "metadata": {},
   "outputs": [],
   "source": [
    "from shapely.wkt import loads as wkt_loads\n",
    "\n",
    "# sanitize the WKT string\n",
    "wkt_s = \"POLYGON\" + geom.split(\"POLYGON\")[-1].split('\"')[0]\n",
    "fig, ax = plt.subplots()\n",
    "gpd.read_file(\n",
    "    \"/home/ivanra/documents/PyPSA-China-PIK/resources/data/regions/regions_offshore.geojson\"\n",
    ").plot(ax=ax, color=\"black\")\n",
    "eez = gpd.GeoDataFrame([{\"geometry\": wkt_loads(wkt_s)}])\n",
    "eez.plot(ax=ax, color=\"red\")\n",
    "fetch_natural_earth_shape(\"admin_0_countries\", \"ADMIN\", \"China\").plot(ax=ax)\n",
    "fetch_natural_earth_shape(\"admin_0_countries\", \"ADMIN\", \"Taiwan\").plot(\n",
    "    ax=ax, color=\"grey\"\n",
    ")\n",
    "fetch_natural_earth_shape(\"admin_0_countries\", \"ADMIN\", \"North Korea\").plot(\n",
    "    ax=ax, color=\"grey\"\n",
    ")\n",
    "fetch_natural_earth_shape(\"admin_0_countries\", \"ADMIN\", \"South Korea\").plot(\n",
    "    ax=ax, color=\"grey\"\n",
    ")\n",
    "fetch_natural_earth_shape(\"admin_0_countries\", \"ADMIN\", \"Japan\").plot(\n",
    "    ax=ax, color=\"grey\"\n",
    ")\n",
    "gpd_eez.convex_hull.difference(china_shape).plot(ax=ax, color=\"green\", alpha=0.5)"
   ]
  }
 ],
 "metadata": {
  "kernelspec": {
   "display_name": "pypsa-china",
   "language": "python",
   "name": "python3"
  },
  "language_info": {
   "codemirror_mode": {
    "name": "ipython",
    "version": 3
   },
   "file_extension": ".py",
   "mimetype": "text/x-python",
   "name": "python",
   "nbconvert_exporter": "python",
   "pygments_lexer": "ipython3",
   "version": "3.12.7"
  }
 },
 "nbformat": 4,
 "nbformat_minor": 2
}
