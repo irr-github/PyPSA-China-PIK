{
 "cells": [
  {
   "cell_type": "code",
   "execution_count": null,
   "metadata": {},
   "outputs": [],
   "source": [
    "import atlite\n",
    "import cartopy.crs as ccrs\n",
    "import cartopy.io.shapereader as shpreader\n",
    "import matplotlib.pyplot as plt\n",
    "from cartopy.crs import PlateCarree as plate"
   ]
  },
  {
   "cell_type": "code",
   "execution_count": null,
   "metadata": {},
   "outputs": [],
   "source": [
    "shpfilename = shpreader.natural_earth(\n",
    "    resolution=\"10m\", category=\"cultural\", name=\"admin_0_countries\"\n",
    ")"
   ]
  },
  {
   "cell_type": "code",
   "execution_count": null,
   "metadata": {},
   "outputs": [],
   "source": [
    "cutout = atlite.Cutout(\n",
    "    \"/home/ivanra/documents/PyPSA-China-PIK/resources/cutouts/China-2020-original.nc\"\n",
    ")"
   ]
  },
  {
   "cell_type": "code",
   "execution_count": null,
   "metadata": {},
   "outputs": [],
   "source": [
    "cap_factors = cutout.wind(turbine=\"Vestas_V112_3MW\", capacity_factor=True)\n",
    "cells = cutout.grid\n",
    "fig, ax = plt.subplots(subplot_kw={\"projection\": ccrs.PlateCarree()}, figsize=(9, 7))\n",
    "cap_factors.name = \"Capacity Factor\"\n",
    "cap_factors.plot(ax=ax, transform=plate(), alpha=0.8)\n",
    "plot_grid_dict = dict(\n",
    "    alpha=0.1,\n",
    "    edgecolor=\"k\",\n",
    "    zorder=4,\n",
    "    aspect=\"equal\",\n",
    "    facecolor=\"None\",\n",
    "    transform=plate(),\n",
    ")\n",
    "cells.plot(ax=ax, **plot_grid_dict)\n",
    "fig.tight_layout();"
   ]
  },
  {
   "cell_type": "code",
   "execution_count": null,
   "metadata": {},
   "outputs": [],
   "source": [
    "cap_factors = cutout.wind(\n",
    "    turbine=\"NREL_ReferenceTurbine_5MW_offshore\", capacity_factor=True\n",
    ")\n",
    "cells = cutout.grid\n",
    "fig, ax = plt.subplots(subplot_kw={\"projection\": ccrs.PlateCarree()}, figsize=(9, 7))\n",
    "cap_factors.name = \"Capacity Factor\"\n",
    "cap_factors.plot(ax=ax, transform=plate(), alpha=0.8)\n",
    "plot_grid_dict = dict(\n",
    "    alpha=0.1,\n",
    "    edgecolor=\"k\",\n",
    "    zorder=4,\n",
    "    aspect=\"equal\",\n",
    "    facecolor=\"None\",\n",
    "    transform=plate(),\n",
    ")\n",
    "cells.plot(ax=ax, **plot_grid_dict)\n",
    "fig.tight_layout();"
   ]
  },
  {
   "cell_type": "code",
   "execution_count": null,
   "metadata": {},
   "outputs": [],
   "source": [
    "import xarray as xr"
   ]
  },
  {
   "cell_type": "code",
   "execution_count": null,
   "metadata": {},
   "outputs": [],
   "source": [
    "ds_offw = xr.open_dataset(\n",
    "    \"/home/ivanra/documents/PyPSA-China-PIK/resources/profile_offwind.nc\"\n",
    ")\n",
    "ds_ow = xr.open_dataset(\n",
    "    \"/home/ivanra/documents/PyPSA-China-PIK/resources/profile_onwind.nc\"\n",
    ")"
   ]
  },
  {
   "cell_type": "code",
   "execution_count": null,
   "metadata": {},
   "outputs": [],
   "source": []
  },
  {
   "cell_type": "code",
   "execution_count": null,
   "metadata": {},
   "outputs": [],
   "source": [
    "fig, ax = plt.subplots(len(ds_offw.bus.values), 1, sharex=True)\n",
    "for i, bus in enumerate(ds_offw.coords[\"bus\"]):\n",
    "    ax[i].plot(ds_offw[\"profile\"].sel(bus=bus), label=f\"{bus.values}\")\n",
    "    ax[i].plot(ds_ow[\"profile\"].sel(bus=bus), label=\"onshore\" if i == 0 else None)\n",
    "    ax[i].set_xlabel(\"Time\")\n",
    "    ax[i].set_ylabel(\"Profile\")\n",
    "fig.legend(bbox_to_anchor=(1.0, 1), loc=\"upper left\")"
   ]
  },
  {
   "cell_type": "code",
   "execution_count": null,
   "metadata": {},
   "outputs": [],
   "source": [
    "ds_offw.sel(bus=bus).sum(\"x\").sum(\"y\").profile.plot()"
   ]
  }
 ],
 "metadata": {
  "kernelspec": {
   "display_name": "pypsa-china",
   "language": "python",
   "name": "python3"
  },
  "language_info": {
   "codemirror_mode": {
    "name": "ipython",
    "version": 3
   },
   "file_extension": ".py",
   "mimetype": "text/x-python",
   "name": "python",
   "nbconvert_exporter": "python",
   "pygments_lexer": "ipython3",
   "version": "3.12.7"
  }
 },
 "nbformat": 4,
 "nbformat_minor": 2
}
