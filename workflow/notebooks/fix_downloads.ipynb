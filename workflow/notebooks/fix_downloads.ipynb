{
 "cells": [
  {
   "cell_type": "markdown",
   "metadata": {},
   "source": [
    "## rename files from natura2000 download\n",
    "Natura2000 data is at https://www.protectedplanet.net/en/search-areas?geo_type=site\n",
    "replace the hash by something sensible"
   ]
  },
  {
   "cell_type": "code",
   "execution_count": null,
   "metadata": {},
   "outputs": [],
   "source": [
    "import os.path\n",
    "import pathlib\n",
    "\n",
    "base = pathlib.Path(\n",
    "    \"/home/ivanra/Documents/PyPSA-China-main/resources/data/landuse_availability\"\n",
    ")\n",
    "PATTERN_TO_FIX = \"968e17d9250655b79f2e8f156beb48e55515a5ba7a21745a098ff46400b8bb8\"\n",
    "FIX = \"CN\"\n",
    "file_gen = base.rglob(f\"*{PATTERN_TO_FIX}*\")\n",
    "for f in file_gen:\n",
    "    new_name = f.name.replace(PATTERN_TO_FIX, FIX)\n",
    "    p = os.path.join(f.parent, new_name)\n",
    "    # print(p)\n",
    "    f.rename(p)"
   ]
  }
 ],
 "metadata": {
  "kernelspec": {
   "display_name": "pypsa-china",
   "language": "python",
   "name": "python3"
  },
  "language_info": {
   "codemirror_mode": {
    "name": "ipython",
    "version": 3
   },
   "file_extension": ".py",
   "mimetype": "text/x-python",
   "name": "python",
   "nbconvert_exporter": "python",
   "pygments_lexer": "ipython3",
   "version": "3.12.7"
  }
 },
 "nbformat": 4,
 "nbformat_minor": 2
}
