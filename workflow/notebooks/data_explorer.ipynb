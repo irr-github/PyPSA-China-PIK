{
 "cells": [
  {
   "cell_type": "markdown",
   "metadata": {},
   "source": [
    "## Data explorer"
   ]
  },
  {
   "cell_type": "code",
   "execution_count": null,
   "metadata": {},
   "outputs": [],
   "source": [
    "import os.path\n",
    "import pathlib\n",
    "\n",
    "import geopandas as gpd\n",
    "import matplotlib.pyplot as plt\n",
    "import pandas as pd\n",
    "import shapely\n",
    "import xarray as xr"
   ]
  },
  {
   "cell_type": "markdown",
   "metadata": {},
   "source": [
    "# geojson files\n",
    "\n"
   ]
  },
  {
   "cell_type": "code",
   "execution_count": null,
   "metadata": {},
   "outputs": [],
   "source": [
    "path = os.path.abspath(\"../../resources/data/rc\")\n",
    "p = pathlib.Path(path)\n",
    "geojson_files = p.glob(\"*.geojson\")\n",
    "\n",
    "# gdf = pd.concat([gpd.read_file(f) for f in geojson_files])\n",
    "\n",
    "data_frames = []\n",
    "for f in geojson_files:\n",
    "    gdf = gpd.read_file(f)\n",
    "    gdf[\"src_file\"] = f.name\n",
    "    data_frames.append(gdf)\n",
    "gdf_shapes = pd.concat(data_frames)"
   ]
  },
  {
   "cell_type": "code",
   "execution_count": null,
   "metadata": {},
   "outputs": [],
   "source": [
    "from folium import Map\n",
    "\n",
    "bounds = gdf_shapes.total_bounds\n",
    "center = [(bounds[1] + bounds[3]) / 2 - 10, (bounds[0] + bounds[2]) / 2]\n",
    "aoi_map = Map(\n",
    "    # Base map is set to OpenStreetMap\n",
    "    tiles=\"OpenStreetMap\",\n",
    "    # Define the spatial properties for the map\n",
    "    location=center,\n",
    "    # Set the zoom value\n",
    "    zoom_start=4,\n",
    ")\n",
    "gdf_shapes.explore(m=aoi_map, column=\"src_file\")"
   ]
  },
  {
   "cell_type": "markdown",
   "metadata": {},
   "source": [
    "Socioeconomic Data and Applications Center (SEDAC) pop density\n"
   ]
  },
  {
   "cell_type": "code",
   "execution_count": null,
   "metadata": {},
   "outputs": [],
   "source": [
    "import rioxarray\n",
    "\n",
    "target = os.path.expanduser(\n",
    "    \"~/downloads/gpw-v4-population-density-rev11_2020_30_sec_tif/gpw_v4_population_density_rev11_2020_30_sec.tif\"\n",
    ")"
   ]
  },
  {
   "cell_type": "code",
   "execution_count": null,
   "metadata": {},
   "outputs": [],
   "source": [
    "def read_sedac_pop_density(\n",
    "    path: os.PathLike, clip_shape: gpd.GeoSeries = None, crs=4326, plot=False\n",
    ") -> gpd.GeoDataFrame:\n",
    "    \"\"\"_summary_\n",
    "\n",
    "    Args:\n",
    "        path (os.PathLike): _description_\n",
    "        clip_shape (gpd.GeoSeries, optional): _description_. Defaults to None.\n",
    "        crs (int, optional): _description_. Defaults to 4326.\n",
    "        plot (bool, optional): _description_. Defaults to False.\n",
    "\n",
    "    Returns:\n",
    "        gpd.GeoDataFrame: _description_\n",
    "    \"\"\"\n",
    "    bounds = clip_shape.total_bounds\n",
    "\n",
    "    ds = rioxarray.open_rasterio(path, chunks=60, default_name=\"pop_density\")\n",
    "    ds = ds.rename(\"pop_density\")\n",
    "    if clip_shape is not None:\n",
    "        print(\"cliping\")\n",
    "        ds = ds.rio.clip(clip_shape.geometry)\n",
    "        print(\"clipped\")\n",
    "\n",
    "    ds = ds.where(ds > 0)\n",
    "\n",
    "    if plot:\n",
    "        ds.plot()\n",
    "        plt.show()\n",
    "\n",
    "    df = ds.to_dataframe(\"pop_density\")\n",
    "    df.reset_index(inplace=True)\n",
    "\n",
    "    # Convert the DataFrame to a GeoDataFrame\n",
    "    return gpd.GeoDataFrame(df, geometry=gpd.points_from_xy(df.x, df.y), crs=crs)\n",
    "\n",
    "\n",
    "target = os.path.expanduser(\n",
    "    \"~/downloads/gpw-v4-population-density-rev11_2020_2pt5_min_tif/gpw_v4_population_density_rev11_2020_2pt5_min.tif\"\n",
    ")\n",
    "pop_china = read_sedac_pop_density(target, gdf_shapes)"
   ]
  },
  {
   "cell_type": "code",
   "execution_count": null,
   "metadata": {},
   "outputs": [],
   "source": [
    "pop_china"
   ]
  },
  {
   "cell_type": "code",
   "execution_count": null,
   "metadata": {},
   "outputs": [],
   "source": [
    "target = os.path.expanduser(\n",
    "    \"~/downloads/gpw-v4-population-density-rev11_2020_1_deg_tif/gpw_v4_population_density_rev11_2020_1_deg.tif\"\n",
    ")\n",
    "ds = rioxarray.open_rasterio(target, chunks=20, default_name=\"pop_density\")\n",
    "ds = ds.rename(\"pop_density\")\n",
    "\n",
    "clipped_ds = ds.rio.clip(gdf_shapes.geometry)"
   ]
  },
  {
   "cell_type": "code",
   "execution_count": null,
   "metadata": {},
   "outputs": [],
   "source": [
    "from matplotlib.colors import LogNorm\n",
    "\n",
    "norm = LogNorm(vmin=0.1, vmax=10000)\n",
    "clipped_ds.plot(norm=norm)"
   ]
  },
  {
   "cell_type": "code",
   "execution_count": null,
   "metadata": {},
   "outputs": [],
   "source": [
    "norm = LogNorm(vmin=1, vmax=pop_china.pop_density.max())\n",
    "pop_china.plot(column=\"pop_density\", legend=True, norm=norm)"
   ]
  },
  {
   "cell_type": "code",
   "execution_count": null,
   "metadata": {},
   "outputs": [],
   "source": [
    "pop_china.sample(frac=0.005).explore(column=\"pop_density\", cmap=\"viridis\")"
   ]
  },
  {
   "cell_type": "code",
   "execution_count": null,
   "metadata": {},
   "outputs": [],
   "source": []
  },
  {
   "cell_type": "markdown",
   "metadata": {},
   "source": [
    "# CFRS pop"
   ]
  },
  {
   "cell_type": "code",
   "execution_count": null,
   "metadata": {},
   "outputs": [],
   "source": [
    "cfsr_or = xr.open_dataarray(\n",
    "    \"~/downloads/13987282/PyPSA-China-main/PyPSA-China-original/data/population/CFSR_grid.nc\"\n",
    ")"
   ]
  },
  {
   "cell_type": "code",
   "execution_count": null,
   "metadata": {},
   "outputs": [],
   "source": [
    "path = os.path.abspath(\"../../resources/data/population/CFSR_grid.nc\")\n",
    "cfsr = xr.open_dataset(path)\n",
    "\n",
    "pop_ww_df = cfsr.to_dataframe()\n",
    "pop_ww_df"
   ]
  },
  {
   "cell_type": "code",
   "execution_count": null,
   "metadata": {},
   "outputs": [],
   "source": []
  },
  {
   "cell_type": "code",
   "execution_count": null,
   "metadata": {},
   "outputs": [],
   "source": [
    "with pd.HDFStore(\n",
    "    \"~/downloads/13987282/PyPSA-China-main/PyPSA-China-original/data/population/population_gridcell_map.h5\",\n",
    "    mode=\"r\",\n",
    ") as store:\n",
    "    pop_density = store[\"population_gridcell_map\"]\n",
    "pop_density"
   ]
  },
  {
   "cell_type": "code",
   "execution_count": null,
   "metadata": {},
   "outputs": [],
   "source": [
    "def convert_to_gdf_old(df):\n",
    "    df.reset_index(inplace=True)\n",
    "    df[\"coordinates\"] = list(zip(df.x, df.y))\n",
    "    df[\"coordinates\"] = df[\"coordinates\"].apply(shapely.Point)\n",
    "    return gpd.GeoDataFrame(df, geometry=\"coordinates\", crs=4326)\n",
    "\n",
    "\n",
    "def convert_to_gdf(df, var_name=\"__xarray_dataarray_variable__\"):\n",
    "    df.reset_index(inplace=True)\n",
    "    return gpd.GeoDataFrame(\n",
    "        df[var_name], geometry=gpd.points_from_xy(df.x, df.y), crs=4326\n",
    "    )\n",
    "\n",
    "\n",
    "pop_ww = convert_to_gdf(pop_ww_df)\n",
    "pop_ww.rename(columns={\"__xarray_dataarray_variable__\": \"pop_density\"}, inplace=True)"
   ]
  },
  {
   "cell_type": "code",
   "execution_count": null,
   "metadata": {},
   "outputs": [],
   "source": []
  },
  {
   "cell_type": "code",
   "execution_count": null,
   "metadata": {},
   "outputs": [],
   "source": [
    "cfsr"
   ]
  },
  {
   "cell_type": "code",
   "execution_count": null,
   "metadata": {},
   "outputs": [],
   "source": [
    "pop_ww"
   ]
  },
  {
   "cell_type": "code",
   "execution_count": null,
   "metadata": {},
   "outputs": [],
   "source": [
    "import folium\n",
    "\n",
    "m = folium.Map(\n",
    "    min_lat=bounds[1],\n",
    "    min_lon=bounds[0],\n",
    "    max_lat=bounds[3],\n",
    "    max_lon=bounds[2],\n",
    "    max_bounds=True,\n",
    "    prefer_canvas=True,\n",
    ")"
   ]
  },
  {
   "cell_type": "code",
   "execution_count": null,
   "metadata": {},
   "outputs": [],
   "source": [
    "bounds"
   ]
  },
  {
   "cell_type": "code",
   "execution_count": null,
   "metadata": {},
   "outputs": [],
   "source": [
    "# Define the location to start the map at\n",
    "location = (bounds[1] - bounds[3], -121.981752)\n",
    "\n",
    "# Initializing the map\n",
    "map = folium.Map(location=location)\n",
    "map"
   ]
  },
  {
   "cell_type": "code",
   "execution_count": null,
   "metadata": {},
   "outputs": [],
   "source": [
    "# pop_ww.explore()"
   ]
  },
  {
   "cell_type": "code",
   "execution_count": null,
   "metadata": {},
   "outputs": [],
   "source": [
    "import os.path\n",
    "\n",
    "import atlite"
   ]
  },
  {
   "cell_type": "code",
   "execution_count": null,
   "metadata": {},
   "outputs": [],
   "source": [
    "p = os.path.expanduser(\n",
    "    \"~/documents/Documents/PyPSA-China-main/resources/cutouts/China-2020.nc\"\n",
    ")\n",
    "os.path.exists(p)\n",
    "cutout = atlite.Cutout(p)"
   ]
  },
  {
   "cell_type": "code",
   "execution_count": null,
   "metadata": {},
   "outputs": [],
   "source": [
    "snapshot = cutout.data.sel(time=\"2020-01-01T23:00:00\")"
   ]
  },
  {
   "cell_type": "code",
   "execution_count": null,
   "metadata": {},
   "outputs": [],
   "source": [
    "fig, ax = plt.subplots(1, 1)\n",
    "snapshot.temperature.plot(ax=ax)\n",
    "gdf_shapes.plot(ax=ax, edgecolor=\"red\", facecolor=\"none\")"
   ]
  },
  {
   "cell_type": "markdown",
   "metadata": {},
   "source": [
    "# Explore the hdf5 population"
   ]
  },
  {
   "cell_type": "code",
   "execution_count": null,
   "metadata": {},
   "outputs": [],
   "source": [
    "prov_pop_path = r\"/home/ivanra/documents/Documents/PyPSA-China-main/resources/derived_data/population/population_gridcell_map.h5\"\n",
    "with pd.HDFStore(prov_pop_path, mode=\"r\") as store:\n",
    "    print(store.keys())\n",
    "    pop_province_new = store[\"population_gridcell_map\"]\n",
    "pop_province_new.mean()"
   ]
  },
  {
   "cell_type": "code",
   "execution_count": null,
   "metadata": {},
   "outputs": [],
   "source": [
    "pop_province_new[\"Anhui\"][pop_province_new[\"Anhui\"] > 0]"
   ]
  },
  {
   "cell_type": "code",
   "execution_count": null,
   "metadata": {},
   "outputs": [],
   "source": [
    "prov_pop_path = r\"/home/ivanra/documents/Documents/PyPSA-China-original/data/population/population_gridcell_map.h5\"\n",
    "with pd.HDFStore(prov_pop_path, mode=\"r\") as store:\n",
    "    print(store.keys())\n",
    "    pop_province = store[\"population_gridcell_map\"]"
   ]
  },
  {
   "cell_type": "code",
   "execution_count": null,
   "metadata": {},
   "outputs": [],
   "source": [
    "import scipy as sp\n",
    "\n",
    "pop_matrix = sp.sparse.csr_matrix(pop_province.T)\n",
    "index = pop_province.columns\n",
    "index.name = \"provinces\""
   ]
  },
  {
   "cell_type": "code",
   "execution_count": null,
   "metadata": {},
   "outputs": [],
   "source": [
    "temp = cutout.temperature(matrix=pop_matrix, index=index)\n",
    "temp[\"time\"] = temp[\"time\"].values + pd.Timedelta(8, unit=\"h\")  # UTC-8 instead of UTC"
   ]
  },
  {
   "cell_type": "code",
   "execution_count": null,
   "metadata": {},
   "outputs": [],
   "source": [
    "temp"
   ]
  },
  {
   "cell_type": "code",
   "execution_count": null,
   "metadata": {},
   "outputs": [],
   "source": [
    "pop_province.loc[pop_province.any(axis=1) != 0]"
   ]
  },
  {
   "cell_type": "code",
   "execution_count": null,
   "metadata": {},
   "outputs": [],
   "source": [
    "anhui = pop_province[\"Anhui\"]\n",
    "anhui[anhui > 0]"
   ]
  }
 ],
 "metadata": {
  "kernelspec": {
   "display_name": "pypsa-china",
   "language": "python",
   "name": "python3"
  },
  "language_info": {
   "codemirror_mode": {
    "name": "ipython",
    "version": 3
   },
   "file_extension": ".py",
   "mimetype": "text/x-python",
   "name": "python",
   "nbconvert_exporter": "python",
   "pygments_lexer": "ipython3",
   "version": "3.12.7"
  }
 },
 "nbformat": 4,
 "nbformat_minor": 2
}
