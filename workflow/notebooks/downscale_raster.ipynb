{
 "cells": [
  {
   "cell_type": "markdown",
   "metadata": {},
   "source": [
    "# Downscale & clip large raster data files\n",
    "- useful if really they can't be downloaded programmatically for the AOI (area of interest)\n",
    "- decreases storage and RAM req\n",
    "- raster is often at very high spatial res (eg. 10s of meter for S2), which is not needed for PyPSA"
   ]
  },
  {
   "cell_type": "code",
   "execution_count": null,
   "metadata": {},
   "outputs": [],
   "source": [
    "# running the jupyter notebook on the compute nodes doesnt build the path as expected, you have to manually do this\n",
    "import os\n",
    "\n",
    "import IPython\n",
    "\n",
    "working_directory = os.path.dirname(\n",
    "    IPython.extract_module_locals()[1][\"__vsc_ipynb_file__\"]\n",
    ")\n",
    "os.chdir(os.path.join(os.path.dirname(working_directory), \"scripts\"))\n",
    "os.getcwd()"
   ]
  },
  {
   "cell_type": "code",
   "execution_count": null,
   "metadata": {},
   "outputs": [],
   "source": [
    "import geopandas as gpd\n",
    "import rioxarray\n",
    "import xarray as xr\n",
    "from constants import CRS"
   ]
  },
  {
   "cell_type": "markdown",
   "metadata": {},
   "source": [
    "## functions"
   ]
  },
  {
   "cell_type": "code",
   "execution_count": null,
   "metadata": {},
   "outputs": [],
   "source": [
    "def xarr_to_gdf(\n",
    "    xarr: xr.DataArray, var_name: str, x_var=\"x\", y_var=\"y\", crs=CRS\n",
    ") -> gpd.GeoDataFrame:\n",
    "    \"\"\"Convert an xarray to GDF\n",
    "\n",
    "    Args:\n",
    "        xarr (xr.DataArray): the input array\n",
    "        var_name (str): the array variable to be converted.\n",
    "        x_var (str, optional): the x dimension. Defaults to \"x\".\n",
    "        y_var (str, optional): the y dimension. Defaults to \"y\".\n",
    "        crs (_type_, optional): the crs. Defaults to CRS.\n",
    "\n",
    "    Returns:\n",
    "        gpd.GeoDataFrame: geodata frame in chosen CRS\n",
    "    \"\"\"\n",
    "    df = xarr.to_dataframe()\n",
    "    df.reset_index(inplace=True)\n",
    "    return gpd.GeoDataFrame(\n",
    "        df[var_name], geometry=gpd.points_from_xy(df[x_var], df[y_var]), crs=crs\n",
    "    )"
   ]
  },
  {
   "cell_type": "code",
   "execution_count": null,
   "metadata": {},
   "outputs": [],
   "source": [
    "def coarsen_and_clip(\n",
    "    paths: list[os.PathLike],\n",
    "    region_gdf: gpd.GeoDataFrame,\n",
    "    region_name: str,\n",
    "    downscale=10,\n",
    "):\n",
    "    \"\"\"Coarsen high res satellite data and clip to region of interest and Save new files\n",
    "\n",
    "    Args:\n",
    "        paths (list[os.PathLike]): the raster paths list\n",
    "        region_gdf (gpd.GeoDataFrame): the shape file to clip to\n",
    "        region_name (str): the name of the region (for file identification)\n",
    "        downscale (int, optional): the factor to corasen by. Defaults to 10.\n",
    "    \"\"\"\n",
    "    for p in paths:\n",
    "        ds = rioxarray.open_rasterio(p, chunks={\"x\": 1000, \"y\": 1000})\n",
    "        ds = ds.coarsen(x=downscale, y=downscale, boundary=\"pad\").mean()\n",
    "        ds = ds.rio.clip(region_gdf.geometry.values, region_gdf.crs)\n",
    "        ds = ds.where(ds <= 100, other=100)\n",
    "        ds.rio.to_raster(f\"{os.path.splitext(p)[0]}_clipped_{region_name}.tif\")"
   ]
  },
  {
   "cell_type": "markdown",
   "metadata": {},
   "source": [
    "# get shape to which to clip"
   ]
  },
  {
   "cell_type": "code",
   "execution_count": null,
   "metadata": {},
   "outputs": [],
   "source": [
    "geo_path = os.path.realpath(\"../../resources/data/regions/regions_onshore.geojson\")\n",
    "region_shape = gpd.read_file(geo_path)\n",
    "region_shape.plot()\n",
    "shape_name = \"china\""
   ]
  },
  {
   "cell_type": "markdown",
   "metadata": {},
   "source": [
    "## downscale data\n",
    "GLC sentinel analysis is at 100m, downscale to 1x1km2"
   ]
  },
  {
   "cell_type": "code",
   "execution_count": null,
   "metadata": {},
   "outputs": [],
   "source": [
    "paths = [\n",
    "    os.path.join(\"../../resources/data/landuse_availability/\", raster)\n",
    "    for raster in [\"Bare.tif\", \"Build_up.tif\", \"Grass.tif\", \"Shrubland.tif\"]\n",
    "]\n",
    "coarsen_and_clip(paths, region_shape, shape_name, downscale=10)"
   ]
  },
  {
   "cell_type": "code",
   "execution_count": null,
   "metadata": {},
   "outputs": [],
   "source": [
    "provs = gpd.read_file(\"../../resources/data/province_shapes/CHN_adm1.shp\")\n",
    "\n",
    "provs = provs[provs.province.isin([\"Anhui\", \"Jiangsu\", \"Shanghai\"])]\n",
    "provs_ = gpd.GeoSeries(provs.union_all())"
   ]
  },
  {
   "cell_type": "code",
   "execution_count": null,
   "metadata": {},
   "outputs": [],
   "source": [
    "import shutil\n",
    "\n",
    "paths_clipped = [\n",
    "    os.path.join(\"../../resources/data/landuse_availability/\", raster)\n",
    "    for raster in [\n",
    "        \"Bare_clipped_china.tif\",\n",
    "        \"Build_up_clipped_china.tif\",\n",
    "        \"Grass_clipped_china.tif\",\n",
    "        \"Shrubland_clipped_china.tif\",\n",
    "    ]\n",
    "]\n",
    "coarsen_and_clip(paths_clipped, provs_, \"tests\", 5)\n",
    "destination_folder = os.path.realpath(\"../../tests/testdata\")\n",
    "os.makedirs(destination_folder, exist_ok=True)\n",
    "\n",
    "test_files = []\n",
    "for p in paths_clipped:\n",
    "    base_name = os.path.basename(p)\n",
    "    new_name = os.path.basename(paths_clipped[0]).split(\"_clipped\")[0] + \".tif\"\n",
    "    shutil.move(\n",
    "        f\"{os.path.splitext(p)[0]}_clipped_tests.tif\",\n",
    "        os.path.join(destination_folder, new_name),\n",
    "    )\n",
    "    test_files.append(os.path.join(destination_folder, new_name))"
   ]
  },
  {
   "cell_type": "code",
   "execution_count": null,
   "metadata": {},
   "outputs": [],
   "source": [
    "import matplotlib.pyplot as plt\n",
    "\n",
    "for p in test_files:\n",
    "    fig, ax = plt.subplots()\n",
    "    ds = rioxarray.open_rasterio(p)\n",
    "    ds.plot(ax=ax)"
   ]
  },
  {
   "cell_type": "markdown",
   "metadata": {},
   "source": [
    "# gepbco bathimetry"
   ]
  },
  {
   "cell_type": "code",
   "execution_count": null,
   "metadata": {},
   "outputs": [],
   "source": [
    "ds = rioxarray.open_rasterio(\n",
    "    \"../../resources/data/landuse_availability/GEBCO_tiff/gebco_2024_CN.tif\"\n",
    ")\n",
    "# its wg84\n",
    "ds.rio.write_crs(\"epsg:4326\", inplace=True)\n",
    "ds.coords[\"crs\"] = 4326\n",
    "ds"
   ]
  },
  {
   "cell_type": "code",
   "execution_count": null,
   "metadata": {},
   "outputs": [],
   "source": [
    "ds.plot()"
   ]
  },
  {
   "cell_type": "code",
   "execution_count": null,
   "metadata": {},
   "outputs": [],
   "source": [
    "downscale = 24\n",
    "ds_ = ds.coarsen(x=downscale, y=downscale, boundary=\"pad\").mean()\n",
    "ds_.rio.write_crs(4326, inplace=True)\n",
    "# ds_ = ds_.rio.clip(region_shape.geometry.values, region_shape.crs)"
   ]
  },
  {
   "cell_type": "code",
   "execution_count": null,
   "metadata": {},
   "outputs": [],
   "source": [
    "ds_.plot()\n",
    "ds_.rio.to_raster(\n",
    "    \"../../resources/data/landuse_availability/GEBCO_tiff/gebco_2024_CN_tests.tif\"\n",
    ")"
   ]
  }
 ],
 "metadata": {
  "kernelspec": {
   "display_name": "Python 3",
   "language": "python",
   "name": "python3"
  },
  "language_info": {
   "codemirror_mode": {
    "name": "ipython",
    "version": 3
   },
   "file_extension": ".py",
   "mimetype": "text/x-python",
   "name": "python",
   "nbconvert_exporter": "python",
   "pygments_lexer": "ipython3",
   "version": "3.12.7"
  }
 },
 "nbformat": 4,
 "nbformat_minor": 2
}
