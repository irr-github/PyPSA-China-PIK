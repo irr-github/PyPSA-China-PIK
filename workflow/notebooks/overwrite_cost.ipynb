{
 "cells": [
  {
   "cell_type": "code",
   "execution_count": null,
   "id": "0",
   "metadata": {},
   "outputs": [],
   "source": [
    "from pathlib import Path\n",
    "\n",
    "import pandas as pd\n",
    "\n",
    "folder = Path(\"/p/tmp/ivanra/PyPSA-China-PIK/resources/data/costs/default/\")\n",
    "\n",
    "for csv_file in folder.rglob(\"costs_*.csv\"):\n",
    "    # Extract the year from the filename, e.g., costs_2045.csv -> 2045\n",
    "    year = int(csv_file.stem.split(\"_\")[1])\n",
    "    df = pd.read_csv(csv_file)\n",
    "    mask = (\n",
    "        ((df[\"technology\"] == \"HVDC overhead\") | (df[\"technology\"] == \"HVAC overhead\"))\n",
    "        & (df[\"year\"] == year)\n",
    "        & (df[\"parameter\"] == \"investment\")\n",
    "    )\n",
    "    df.loc[mask, \"value\"] = 182.97  # Overwrite with your desired value\n",
    "    df.loc[mask, \"unit\"] = \"EUR/km/MW\"  # Update the unit if necessary\n",
    "    df.loc[mask, \"source\"] = (\n",
    "        \"China Daily Gansu-Zhejiang ±800 kV UHVDC, https://www.chinadaily.com.cn/a/202407/29/WS66a77ca0a31095c51c510947.html\"  # Update the source if necessary\n",
    "    )\n",
    "    df.loc[mask, \"further description\"] = \"accessed 25-06-10\"  # Add a comment\n",
    "\n",
    "    df.to_csv(csv_file, index=False)"
   ]
  },
  {
   "cell_type": "code",
   "execution_count": null,
   "id": "1",
   "metadata": {},
   "outputs": [],
   "source": [
    "from pathlib import Path\n",
    "\n",
    "import pandas as pd\n",
    "\n",
    "folder = Path(\"/p/tmp/ivanra/PyPSA-China-PIK/resources/data/costs/default/\")\n",
    "\n",
    "for csv_file in folder.rglob(\"costs_*.csv\"):\n",
    "    # Extract the year from the filename, e.g., costs_2045.csv -> 2045\n",
    "    year = int(csv_file.stem.split(\"_\")[1])\n",
    "    df = pd.read_csv(csv_file)\n",
    "    mask = (\n",
    "        (df[\"technology\"] == \"PHS\")\n",
    "        & (df[\"year\"] == year)\n",
    "        & (df[\"parameter\"] == \"investment\")\n",
    "    )\n",
    "    df.loc[mask, \"value\"] = (\n",
    "        df.loc[mask, \"value\"] * 0.75\n",
    "    )  # Overwrite with your desired value\n",
    "    df.loc[mask, \"unit\"] = \"EUR/km/MW\"  # Update the unit if necessary\n",
    "    df.loc[mask, \"source\"] = (\n",
    "        \"China Daily Gansu-Zhejiang ±800 kV UHVDC, https://www.chinadaily.com.cn/a/202407/29/WS66a77ca0a31095c51c510947.html\"  # Update the source if necessary\n",
    "    )\n",
    "    df.loc[mask, \"further description\"] = \"accessed 25-06-10\"  # Add a comment\n",
    "\n",
    "    df.to_csv(csv_file, index=False)"
   ]
  }
 ],
 "metadata": {
  "kernelspec": {
   "display_name": "Python 3",
   "language": "python",
   "name": "python3"
  },
  "language_info": {
   "codemirror_mode": {
    "name": "ipython",
    "version": 3
   },
   "file_extension": ".py",
   "mimetype": "text/x-python",
   "name": "python",
   "nbconvert_exporter": "python",
   "pygments_lexer": "ipython3",
   "version": "3.12.7"
  }
 },
 "nbformat": 4,
 "nbformat_minor": 5
}
